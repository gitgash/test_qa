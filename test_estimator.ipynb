{
  "nbformat": 4,
  "nbformat_minor": 0,
  "metadata": {
    "colab": {
      "name": "Copy of Copy of ann-estimator.ipynb",
      "version": "0.3.2",
      "provenance": [],
      "collapsed_sections": [],
      "include_colab_link": true
    },
    "kernelspec": {
      "name": "python3",
      "display_name": "Python 3"
    },
    "accelerator": "GPU"
  },
  "cells": [
    {
      "cell_type": "markdown",
      "metadata": {
        "id": "view-in-github",
        "colab_type": "text"
      },
      "source": [
        "[View in Colaboratory](https://colab.research.google.com/github/gitgash/test_qa/blob/master/test_estimator.ipynb)"
      ]
    },
    {
      "metadata": {
        "id": "n-ZYBTgVwoIl",
        "colab_type": "text"
      },
      "cell_type": "markdown",
      "source": [
        "# Introduction\n",
        "This work have been proceed as test job for quantitative analyst.  \n",
        "Requirements:  \n",
        "get [train data](https://www.dropbox.com/s/2hqoisbqzzgym26/train.csv?dl=1) \n",
        "get [test data](https://www.dropbox.com/s/y9tbmdqtlclobgp/test.csv?dl=1) \n",
        "get [Sample prediction](https://www.dropbox.com/s/r5qu2ornfinrt1s/sample_prediction.csv?dl=1) \n",
        "\n",
        "and make estimator with highest AUC ROC metric.  \n",
        "\n",
        "During  this work it have been done: \n",
        "1. data exploration,\n",
        "1. 'traditional' model creation \n",
        "1. artificial neural network model creation.\n",
        "\n",
        "Results considered in conclusion section.  \n",
        "Google (tm) [Colab.research](https://colab.research.google.com) have been used in this work, but methodology and technology (jupyter notebook) tools can be used in any suitable environment (python, scikit learn, pandas, numpy, tensorflow, keras).  \n",
        "Style of the work is reproducible  - anybody can run this notebook and reproduce results.  \n",
        "So lets start."
      ]
    },
    {
      "metadata": {
        "id": "K_XpycV2ym75",
        "colab_type": "text"
      },
      "cell_type": "markdown",
      "source": [
        "# Data Exploration\n",
        "In process of data exploration following steps have been proceed:\n",
        "1. Loading data\n",
        "1. Simple exploration\n",
        "1. Correlation analysis\n"
      ]
    },
    {
      "metadata": {
        "id": "v1lM6ZDf0kU0",
        "colab_type": "text"
      },
      "cell_type": "markdown",
      "source": [
        "## Load data\n",
        "Data file have been place to dropbox so we load them from there by url."
      ]
    },
    {
      "metadata": {
        "id": "p2ou6aWO85Kn",
        "colab_type": "code",
        "colab": {
          "base_uri": "https://localhost:8080/",
          "height": 34
        },
        "outputId": "5475075d-6857-4682-ff10-af53007144b0"
      },
      "cell_type": "code",
      "source": [
        "# It is preleminary section where we include part of libraries used later \n",
        "# and define utility functions\n",
        "import tensorflow as tf\n",
        "import pandas as pd\n",
        "import numpy as np\n",
        "import seaborn as sns\n",
        "import matplotlib.pyplot as plt\n",
        "from sklearn.model_selection import train_test_split\n",
        "import keras\n",
        "from keras.models import Sequential\n",
        "from keras.layers import Dense, Dropout, Activation\n",
        "from keras.optimizers import SGD\n",
        "from sklearn.preprocessing import StandardScaler\n",
        "from sklearn.decomposition import PCA\n",
        "from sklearn.metrics import roc_auc_score\n",
        "\n",
        "import matplotlib.pyplot as plt\n",
        "from sklearn.metrics import confusion_matrix\n",
        "import itertools\n",
        "\n",
        "\n",
        "# Plot confision matrix function\n",
        "# (c) by scikit lear documentation and examples\n",
        "def plot_confusion_matrix(cm, classes,\n",
        "                          normalize=False,\n",
        "                          title='Confusion matrix',\n",
        "                          cmap=plt.cm.Blues):\n",
        "    \"\"\"\n",
        "    This function prints and plots the confusion matrix.\n",
        "    Normalization can be applied by setting `normalize=True`.\n",
        "    \"\"\"\n",
        "    if normalize:\n",
        "        cm = cm.astype('float') / cm.sum(axis=1)[:, np.newaxis]\n",
        "        print(\"Normalized confusion matrix\")\n",
        "    else:\n",
        "        print('Confusion matrix, without normalization')\n",
        "\n",
        "    print(cm)\n",
        "\n",
        "    plt.imshow(cm, interpolation='nearest', cmap=cmap)\n",
        "    plt.title(title)\n",
        "    plt.colorbar()\n",
        "    tick_marks = np.arange(len(classes))\n",
        "    plt.xticks(tick_marks, classes, rotation=45)\n",
        "    plt.yticks(tick_marks, classes)\n",
        "\n",
        "    fmt = '.2f' if normalize else 'd'\n",
        "    thresh = cm.max() / 2.\n",
        "    for i, j in itertools.product(range(cm.shape[0]), range(cm.shape[1])):\n",
        "        plt.text(j, i, format(cm[i, j], fmt),\n",
        "                 horizontalalignment=\"center\",\n",
        "                 color=\"white\" if cm[i, j] > thresh else \"black\")\n",
        "\n",
        "    plt.tight_layout()\n",
        "    plt.ylabel('True label')\n",
        "    plt.xlabel('Predicted label')"
      ],
      "execution_count": 1,
      "outputs": [
        {
          "output_type": "stream",
          "text": [
            "Using TensorFlow backend.\n"
          ],
          "name": "stderr"
        }
      ]
    },
    {
      "metadata": {
        "id": "XJtRvHpu2B92",
        "colab_type": "text"
      },
      "cell_type": "markdown",
      "source": [
        "We use side library to upsample imbalanced test set (later explained) - so we need to install it:"
      ]
    },
    {
      "metadata": {
        "id": "-FcSk1RmAVEK",
        "colab_type": "code",
        "colab": {
          "base_uri": "https://localhost:8080/",
          "height": 85
        },
        "outputId": "d4739911-0205-45e6-c7f1-174b8389a431"
      },
      "cell_type": "code",
      "source": [
        "!pip install -U imbalanced-learn"
      ],
      "execution_count": 2,
      "outputs": [
        {
          "output_type": "stream",
          "text": [
            "Requirement already up-to-date: imbalanced-learn in /usr/local/lib/python3.6/dist-packages (0.3.3)\r\n",
            "Requirement already satisfied, skipping upgrade: numpy in /usr/local/lib/python3.6/dist-packages (from imbalanced-learn) (1.14.5)\r\n",
            "Requirement already satisfied, skipping upgrade: scikit-learn in /usr/local/lib/python3.6/dist-packages (from imbalanced-learn) (0.19.2)\r\n",
            "Requirement already satisfied, skipping upgrade: scipy in /usr/local/lib/python3.6/dist-packages (from imbalanced-learn) (0.19.1)\r\n"
          ],
          "name": "stdout"
        }
      ]
    },
    {
      "metadata": {
        "id": "P_XAWfC39E2o",
        "colab_type": "code",
        "colab": {}
      },
      "cell_type": "code",
      "source": [
        "# load dataset into pandas dataframe\n",
        "\n",
        "train_df = pd.read_csv(\"https://www.dropbox.com/s/2hqoisbqzzgym26/train.csv?dl=1\")\n",
        "test_df = pd.read_csv(\"https://www.dropbox.com/s/y9tbmdqtlclobgp/test.csv?dl=1\")\n",
        "sample_df = pd.read_csv(\"https://www.dropbox.com/s/r5qu2ornfinrt1s/sample_prediction.csv?dl=1\")"
      ],
      "execution_count": 0,
      "outputs": []
    },
    {
      "metadata": {
        "id": "426czUMK27qH",
        "colab_type": "text"
      },
      "cell_type": "markdown",
      "source": [
        "## Simple data exploration"
      ]
    },
    {
      "metadata": {
        "id": "LutKlcY13Asy",
        "colab_type": "code",
        "colab": {
          "base_uri": "https://localhost:8080/",
          "height": 800
        },
        "outputId": "650159df-7237-46a6-f40a-29d4d44c45bd"
      },
      "cell_type": "code",
      "source": [
        "train_df.info()\n",
        "train_df.head()"
      ],
      "execution_count": 0,
      "outputs": [
        {
          "output_type": "stream",
          "text": [
            "<class 'pandas.core.frame.DataFrame'>\n",
            "RangeIndex: 186590 entries, 0 to 186589\n",
            "Data columns (total 21 columns):\n",
            "VASK0         186590 non-null int64\n",
            "VASK1         186590 non-null int64\n",
            "VASK2         186590 non-null int64\n",
            "VASK3         186590 non-null int64\n",
            "VASK4         186590 non-null int64\n",
            "VBID0         186590 non-null int64\n",
            "VBID1         186590 non-null int64\n",
            "VBID2         186590 non-null int64\n",
            "VBID3         186590 non-null int64\n",
            "VBID4         186590 non-null int64\n",
            "VASK0_PREV    186590 non-null int64\n",
            "VASK1_PREV    186590 non-null int64\n",
            "VASK2_PREV    186590 non-null int64\n",
            "VASK3_PREV    186590 non-null int64\n",
            "VASK4_PREV    186590 non-null int64\n",
            "VBID0_PREV    186590 non-null int64\n",
            "VBID1_PREV    186590 non-null int64\n",
            "VBID2_PREV    186590 non-null int64\n",
            "VBID3_PREV    186590 non-null int64\n",
            "VBID4_PREV    186590 non-null int64\n",
            "Y             186590 non-null int64\n",
            "dtypes: int64(21)\n",
            "memory usage: 29.9 MB\n"
          ],
          "name": "stdout"
        },
        {
          "output_type": "execute_result",
          "data": {
            "text/html": [
              "<div>\n",
              "<style scoped>\n",
              "    .dataframe tbody tr th:only-of-type {\n",
              "        vertical-align: middle;\n",
              "    }\n",
              "\n",
              "    .dataframe tbody tr th {\n",
              "        vertical-align: top;\n",
              "    }\n",
              "\n",
              "    .dataframe thead th {\n",
              "        text-align: right;\n",
              "    }\n",
              "</style>\n",
              "<table border=\"1\" class=\"dataframe\">\n",
              "  <thead>\n",
              "    <tr style=\"text-align: right;\">\n",
              "      <th></th>\n",
              "      <th>VASK0</th>\n",
              "      <th>VASK1</th>\n",
              "      <th>VASK2</th>\n",
              "      <th>VASK3</th>\n",
              "      <th>VASK4</th>\n",
              "      <th>VBID0</th>\n",
              "      <th>VBID1</th>\n",
              "      <th>VBID2</th>\n",
              "      <th>VBID3</th>\n",
              "      <th>VBID4</th>\n",
              "      <th>...</th>\n",
              "      <th>VASK1_PREV</th>\n",
              "      <th>VASK2_PREV</th>\n",
              "      <th>VASK3_PREV</th>\n",
              "      <th>VASK4_PREV</th>\n",
              "      <th>VBID0_PREV</th>\n",
              "      <th>VBID1_PREV</th>\n",
              "      <th>VBID2_PREV</th>\n",
              "      <th>VBID3_PREV</th>\n",
              "      <th>VBID4_PREV</th>\n",
              "      <th>Y</th>\n",
              "    </tr>\n",
              "  </thead>\n",
              "  <tbody>\n",
              "    <tr>\n",
              "      <th>0</th>\n",
              "      <td>108</td>\n",
              "      <td>276</td>\n",
              "      <td>224</td>\n",
              "      <td>196</td>\n",
              "      <td>195</td>\n",
              "      <td>132</td>\n",
              "      <td>181</td>\n",
              "      <td>253</td>\n",
              "      <td>207</td>\n",
              "      <td>185</td>\n",
              "      <td>...</td>\n",
              "      <td>276</td>\n",
              "      <td>224</td>\n",
              "      <td>196</td>\n",
              "      <td>195</td>\n",
              "      <td>136</td>\n",
              "      <td>181</td>\n",
              "      <td>253</td>\n",
              "      <td>207</td>\n",
              "      <td>185</td>\n",
              "      <td>0</td>\n",
              "    </tr>\n",
              "    <tr>\n",
              "      <th>1</th>\n",
              "      <td>47</td>\n",
              "      <td>132</td>\n",
              "      <td>197</td>\n",
              "      <td>236</td>\n",
              "      <td>188</td>\n",
              "      <td>81</td>\n",
              "      <td>146</td>\n",
              "      <td>193</td>\n",
              "      <td>169</td>\n",
              "      <td>192</td>\n",
              "      <td>...</td>\n",
              "      <td>132</td>\n",
              "      <td>197</td>\n",
              "      <td>236</td>\n",
              "      <td>188</td>\n",
              "      <td>81</td>\n",
              "      <td>146</td>\n",
              "      <td>193</td>\n",
              "      <td>169</td>\n",
              "      <td>192</td>\n",
              "      <td>0</td>\n",
              "    </tr>\n",
              "    <tr>\n",
              "      <th>2</th>\n",
              "      <td>93</td>\n",
              "      <td>172</td>\n",
              "      <td>193</td>\n",
              "      <td>226</td>\n",
              "      <td>232</td>\n",
              "      <td>33</td>\n",
              "      <td>128</td>\n",
              "      <td>168</td>\n",
              "      <td>145</td>\n",
              "      <td>140</td>\n",
              "      <td>...</td>\n",
              "      <td>172</td>\n",
              "      <td>193</td>\n",
              "      <td>226</td>\n",
              "      <td>232</td>\n",
              "      <td>33</td>\n",
              "      <td>128</td>\n",
              "      <td>168</td>\n",
              "      <td>145</td>\n",
              "      <td>140</td>\n",
              "      <td>0</td>\n",
              "    </tr>\n",
              "    <tr>\n",
              "      <th>3</th>\n",
              "      <td>62</td>\n",
              "      <td>104</td>\n",
              "      <td>169</td>\n",
              "      <td>188</td>\n",
              "      <td>140</td>\n",
              "      <td>75</td>\n",
              "      <td>165</td>\n",
              "      <td>151</td>\n",
              "      <td>206</td>\n",
              "      <td>105</td>\n",
              "      <td>...</td>\n",
              "      <td>104</td>\n",
              "      <td>169</td>\n",
              "      <td>188</td>\n",
              "      <td>140</td>\n",
              "      <td>81</td>\n",
              "      <td>165</td>\n",
              "      <td>151</td>\n",
              "      <td>206</td>\n",
              "      <td>105</td>\n",
              "      <td>0</td>\n",
              "    </tr>\n",
              "    <tr>\n",
              "      <th>4</th>\n",
              "      <td>40</td>\n",
              "      <td>43</td>\n",
              "      <td>87</td>\n",
              "      <td>110</td>\n",
              "      <td>99</td>\n",
              "      <td>11</td>\n",
              "      <td>66</td>\n",
              "      <td>77</td>\n",
              "      <td>155</td>\n",
              "      <td>364</td>\n",
              "      <td>...</td>\n",
              "      <td>43</td>\n",
              "      <td>87</td>\n",
              "      <td>110</td>\n",
              "      <td>99</td>\n",
              "      <td>11</td>\n",
              "      <td>66</td>\n",
              "      <td>77</td>\n",
              "      <td>153</td>\n",
              "      <td>364</td>\n",
              "      <td>0</td>\n",
              "    </tr>\n",
              "  </tbody>\n",
              "</table>\n",
              "<p>5 rows × 21 columns</p>\n",
              "</div>"
            ],
            "text/plain": [
              "   VASK0  VASK1  VASK2  VASK3  VASK4  VBID0  VBID1  VBID2  VBID3  VBID4 ...  \\\n",
              "0    108    276    224    196    195    132    181    253    207    185 ...   \n",
              "1     47    132    197    236    188     81    146    193    169    192 ...   \n",
              "2     93    172    193    226    232     33    128    168    145    140 ...   \n",
              "3     62    104    169    188    140     75    165    151    206    105 ...   \n",
              "4     40     43     87    110     99     11     66     77    155    364 ...   \n",
              "\n",
              "   VASK1_PREV  VASK2_PREV  VASK3_PREV  VASK4_PREV  VBID0_PREV  VBID1_PREV  \\\n",
              "0         276         224         196         195         136         181   \n",
              "1         132         197         236         188          81         146   \n",
              "2         172         193         226         232          33         128   \n",
              "3         104         169         188         140          81         165   \n",
              "4          43          87         110          99          11          66   \n",
              "\n",
              "   VBID2_PREV  VBID3_PREV  VBID4_PREV  Y  \n",
              "0         253         207         185  0  \n",
              "1         193         169         192  0  \n",
              "2         168         145         140  0  \n",
              "3         151         206         105  0  \n",
              "4          77         153         364  0  \n",
              "\n",
              "[5 rows x 21 columns]"
            ]
          },
          "metadata": {
            "tags": []
          },
          "execution_count": 4
        }
      ]
    },
    {
      "metadata": {
        "id": "ksERn-ym3QFM",
        "colab_type": "text"
      },
      "cell_type": "markdown",
      "source": [
        "186590 examples -  not bad for deep learning  \n",
        "'Y' column contains label.  \n",
        "21 columns, 1 - label so we have 20 features.  \n",
        "Features are finteger  \n",
        "Lets look on the features: "
      ]
    },
    {
      "metadata": {
        "id": "wCALMjBi6KYY",
        "colab_type": "code",
        "colab": {
          "base_uri": "https://localhost:8080/",
          "height": 357
        },
        "outputId": "4bc66a5e-d8c3-46b5-ef25-3c0472c957e9"
      },
      "cell_type": "code",
      "source": [
        "# Looking for names\n",
        "for s in train_df.columns[0:-1]:\n",
        "    print(\"%s\\t%d\" % (s, train_df[s].count()))"
      ],
      "execution_count": 0,
      "outputs": [
        {
          "output_type": "stream",
          "text": [
            "VASK0\t186590\n",
            "VASK1\t186590\n",
            "VASK2\t186590\n",
            "VASK3\t186590\n",
            "VASK4\t186590\n",
            "VBID0\t186590\n",
            "VBID1\t186590\n",
            "VBID2\t186590\n",
            "VBID3\t186590\n",
            "VBID4\t186590\n",
            "VASK0_PREV\t186590\n",
            "VASK1_PREV\t186590\n",
            "VASK2_PREV\t186590\n",
            "VASK3_PREV\t186590\n",
            "VASK4_PREV\t186590\n",
            "VBID0_PREV\t186590\n",
            "VBID1_PREV\t186590\n",
            "VBID2_PREV\t186590\n",
            "VBID3_PREV\t186590\n",
            "VBID4_PREV\t186590\n"
          ],
          "name": "stdout"
        }
      ]
    },
    {
      "metadata": {
        "id": "v5lrp-FH9LJ5",
        "colab_type": "text"
      },
      "cell_type": "markdown",
      "source": [
        "As been said in description there are top 5 bids and asks for current time and previous moment.     \n",
        "No NaN values in columns.   \n",
        "What about labels?  "
      ]
    },
    {
      "metadata": {
        "id": "dtC1rnGe9dLc",
        "colab_type": "code",
        "colab": {
          "base_uri": "https://localhost:8080/",
          "height": 650
        },
        "outputId": "55b57cb6-b781-41b0-e03f-f79fa53c4349"
      },
      "cell_type": "code",
      "source": [
        "print(train_df['Y'].describe())\n",
        "plt.figure(figsize=(9, 8))\n",
        "sns.distplot(train_df['Y'], color='g', bins=2, hist_kws={'alpha': 0.4});"
      ],
      "execution_count": 0,
      "outputs": [
        {
          "output_type": "stream",
          "text": [
            "count    186590.000000\n",
            "mean          0.010258\n",
            "std           0.100760\n",
            "min           0.000000\n",
            "25%           0.000000\n",
            "50%           0.000000\n",
            "75%           0.000000\n",
            "max           1.000000\n",
            "Name: Y, dtype: float64\n"
          ],
          "name": "stdout"
        },
        {
          "output_type": "display_data",
          "data": {
            "image/png": "[encoded data removed]",
            "text/plain": [
              "<matplotlib.figure.Figure at 0x7f1edb48dcf8>"
            ]
          },
          "metadata": {
            "tags": []
          }
        }
      ]
    },
    {
      "metadata": {
        "id": "0QrCw5CN-M3N",
        "colab_type": "text"
      },
      "cell_type": "markdown",
      "source": [
        "Labels are strongly imbalanced: class '1' prevails over 0.  \n"
      ]
    },
    {
      "metadata": {
        "id": "a688D6xJ-943",
        "colab_type": "text"
      },
      "cell_type": "markdown",
      "source": [
        "# Correlation analisys"
      ]
    },
    {
      "metadata": {
        "id": "vBwUfxSg_N1H",
        "colab_type": "code",
        "colab": {
          "base_uri": "https://localhost:8080/",
          "height": 374
        },
        "outputId": "e820157e-6104-4363-9110-5424f3573ae8"
      },
      "cell_type": "code",
      "source": [
        "# calculate correlation matrix and get 'label' correlation column\n",
        "df_num_corr = train_df.corr()['Y'][:-1]\n",
        "# get absolute value of correlation\n",
        "abs_corr = abs(df_num_corr)\n",
        "# sort and get top 20\n",
        "abs_corr.sort_values(ascending=False).head(20)"
      ],
      "execution_count": 0,
      "outputs": [
        {
          "output_type": "execute_result",
          "data": {
            "text/plain": [
              "VBID0         0.025155\n",
              "VASK0         0.024026\n",
              "VBID0_PREV    0.023590\n",
              "VASK0_PREV    0.022126\n",
              "VBID1         0.007163\n",
              "VBID1_PREV    0.007082\n",
              "VBID3_PREV    0.006144\n",
              "VBID3         0.006133\n",
              "VASK1         0.005619\n",
              "VASK1_PREV    0.005569\n",
              "VASK4_PREV    0.004739\n",
              "VASK4         0.004727\n",
              "VASK3         0.004548\n",
              "VASK3_PREV    0.004537\n",
              "VASK2         0.004106\n",
              "VASK2_PREV    0.004067\n",
              "VBID2         0.003978\n",
              "VBID2_PREV    0.003969\n",
              "VBID4_PREV    0.003783\n",
              "VBID4         0.003782\n",
              "Name: Y, dtype: float64"
            ]
          },
          "metadata": {
            "tags": []
          },
          "execution_count": 8
        }
      ]
    },
    {
      "metadata": {
        "id": "yQn79jAWB-UE",
        "colab_type": "text"
      },
      "cell_type": "markdown",
      "source": [
        "Correlation is week"
      ]
    },
    {
      "metadata": {
        "id": "M4LtmFtCRxEB",
        "colab_type": "text"
      },
      "cell_type": "markdown",
      "source": [
        "## What about test data?"
      ]
    },
    {
      "metadata": {
        "id": "ugXSLesFR8Oj",
        "colab_type": "code",
        "colab": {
          "base_uri": "https://localhost:8080/",
          "height": 329
        },
        "outputId": "b31cbb75-ca8c-4154-c77e-cad44eb3c230"
      },
      "cell_type": "code",
      "source": [
        "test_df.head()"
      ],
      "execution_count": 0,
      "outputs": [
        {
          "output_type": "execute_result",
          "data": {
            "text/html": [
              "<div>\n",
              "<style scoped>\n",
              "    .dataframe tbody tr th:only-of-type {\n",
              "        vertical-align: middle;\n",
              "    }\n",
              "\n",
              "    .dataframe tbody tr th {\n",
              "        vertical-align: top;\n",
              "    }\n",
              "\n",
              "    .dataframe thead th {\n",
              "        text-align: right;\n",
              "    }\n",
              "</style>\n",
              "<table border=\"1\" class=\"dataframe\">\n",
              "  <thead>\n",
              "    <tr style=\"text-align: right;\">\n",
              "      <th></th>\n",
              "      <th>VASK0</th>\n",
              "      <th>VASK1</th>\n",
              "      <th>VASK2</th>\n",
              "      <th>VASK3</th>\n",
              "      <th>VASK4</th>\n",
              "      <th>VBID0</th>\n",
              "      <th>VBID1</th>\n",
              "      <th>VBID2</th>\n",
              "      <th>VBID3</th>\n",
              "      <th>VBID4</th>\n",
              "      <th>VASK0_PREV</th>\n",
              "      <th>VASK1_PREV</th>\n",
              "      <th>VASK2_PREV</th>\n",
              "      <th>VASK3_PREV</th>\n",
              "      <th>VASK4_PREV</th>\n",
              "      <th>VBID0_PREV</th>\n",
              "      <th>VBID1_PREV</th>\n",
              "      <th>VBID2_PREV</th>\n",
              "      <th>VBID3_PREV</th>\n",
              "      <th>VBID4_PREV</th>\n",
              "    </tr>\n",
              "  </thead>\n",
              "  <tbody>\n",
              "    <tr>\n",
              "      <th>0</th>\n",
              "      <td>187</td>\n",
              "      <td>341</td>\n",
              "      <td>385</td>\n",
              "      <td>375</td>\n",
              "      <td>323</td>\n",
              "      <td>134</td>\n",
              "      <td>158</td>\n",
              "      <td>213</td>\n",
              "      <td>222</td>\n",
              "      <td>180</td>\n",
              "      <td>187</td>\n",
              "      <td>341</td>\n",
              "      <td>385</td>\n",
              "      <td>375</td>\n",
              "      <td>323</td>\n",
              "      <td>134</td>\n",
              "      <td>158</td>\n",
              "      <td>212</td>\n",
              "      <td>222</td>\n",
              "      <td>180</td>\n",
              "    </tr>\n",
              "    <tr>\n",
              "      <th>1</th>\n",
              "      <td>37</td>\n",
              "      <td>165</td>\n",
              "      <td>144</td>\n",
              "      <td>160</td>\n",
              "      <td>146</td>\n",
              "      <td>89</td>\n",
              "      <td>101</td>\n",
              "      <td>184</td>\n",
              "      <td>162</td>\n",
              "      <td>123</td>\n",
              "      <td>38</td>\n",
              "      <td>165</td>\n",
              "      <td>144</td>\n",
              "      <td>160</td>\n",
              "      <td>146</td>\n",
              "      <td>89</td>\n",
              "      <td>101</td>\n",
              "      <td>185</td>\n",
              "      <td>162</td>\n",
              "      <td>123</td>\n",
              "    </tr>\n",
              "    <tr>\n",
              "      <th>2</th>\n",
              "      <td>195</td>\n",
              "      <td>192</td>\n",
              "      <td>211</td>\n",
              "      <td>178</td>\n",
              "      <td>188</td>\n",
              "      <td>18</td>\n",
              "      <td>114</td>\n",
              "      <td>162</td>\n",
              "      <td>163</td>\n",
              "      <td>167</td>\n",
              "      <td>195</td>\n",
              "      <td>192</td>\n",
              "      <td>211</td>\n",
              "      <td>178</td>\n",
              "      <td>188</td>\n",
              "      <td>18</td>\n",
              "      <td>114</td>\n",
              "      <td>162</td>\n",
              "      <td>163</td>\n",
              "      <td>167</td>\n",
              "    </tr>\n",
              "    <tr>\n",
              "      <th>3</th>\n",
              "      <td>5</td>\n",
              "      <td>180</td>\n",
              "      <td>143</td>\n",
              "      <td>159</td>\n",
              "      <td>194</td>\n",
              "      <td>109</td>\n",
              "      <td>127</td>\n",
              "      <td>224</td>\n",
              "      <td>133</td>\n",
              "      <td>132</td>\n",
              "      <td>5</td>\n",
              "      <td>180</td>\n",
              "      <td>143</td>\n",
              "      <td>159</td>\n",
              "      <td>194</td>\n",
              "      <td>110</td>\n",
              "      <td>127</td>\n",
              "      <td>224</td>\n",
              "      <td>133</td>\n",
              "      <td>132</td>\n",
              "    </tr>\n",
              "    <tr>\n",
              "      <th>4</th>\n",
              "      <td>117</td>\n",
              "      <td>156</td>\n",
              "      <td>154</td>\n",
              "      <td>169</td>\n",
              "      <td>139</td>\n",
              "      <td>48</td>\n",
              "      <td>129</td>\n",
              "      <td>148</td>\n",
              "      <td>159</td>\n",
              "      <td>177</td>\n",
              "      <td>117</td>\n",
              "      <td>156</td>\n",
              "      <td>154</td>\n",
              "      <td>169</td>\n",
              "      <td>139</td>\n",
              "      <td>48</td>\n",
              "      <td>128</td>\n",
              "      <td>148</td>\n",
              "      <td>159</td>\n",
              "      <td>177</td>\n",
              "    </tr>\n",
              "  </tbody>\n",
              "</table>\n",
              "</div>"
            ],
            "text/plain": [
              "   VASK0  VASK1  VASK2  VASK3  VASK4  VBID0  VBID1  VBID2  VBID3  VBID4  \\\n",
              "0    187    341    385    375    323    134    158    213    222    180   \n",
              "1     37    165    144    160    146     89    101    184    162    123   \n",
              "2    195    192    211    178    188     18    114    162    163    167   \n",
              "3      5    180    143    159    194    109    127    224    133    132   \n",
              "4    117    156    154    169    139     48    129    148    159    177   \n",
              "\n",
              "   VASK0_PREV  VASK1_PREV  VASK2_PREV  VASK3_PREV  VASK4_PREV  VBID0_PREV  \\\n",
              "0         187         341         385         375         323         134   \n",
              "1          38         165         144         160         146          89   \n",
              "2         195         192         211         178         188          18   \n",
              "3           5         180         143         159         194         110   \n",
              "4         117         156         154         169         139          48   \n",
              "\n",
              "   VBID1_PREV  VBID2_PREV  VBID3_PREV  VBID4_PREV  \n",
              "0         158         212         222         180  \n",
              "1         101         185         162         123  \n",
              "2         114         162         163         167  \n",
              "3         127         224         133         132  \n",
              "4         128         148         159         177  "
            ]
          },
          "metadata": {
            "tags": []
          },
          "execution_count": 10
        }
      ]
    },
    {
      "metadata": {
        "id": "wlVza48tSMBm",
        "colab_type": "text"
      },
      "cell_type": "markdown",
      "source": [
        "No target - the rest is the same as train"
      ]
    },
    {
      "metadata": {
        "id": "oha5lvBdSU0u",
        "colab_type": "text"
      },
      "cell_type": "markdown",
      "source": [
        "## What about sample?"
      ]
    },
    {
      "metadata": {
        "id": "z0dlPkxDSZWa",
        "colab_type": "code",
        "colab": {
          "base_uri": "https://localhost:8080/",
          "height": 204
        },
        "outputId": "2f5c361c-79c3-4b72-90d6-4c50012fa062"
      },
      "cell_type": "code",
      "source": [
        "sample_df.head()"
      ],
      "execution_count": 0,
      "outputs": [
        {
          "output_type": "execute_result",
          "data": {
            "text/html": [
              "<div>\n",
              "<style scoped>\n",
              "    .dataframe tbody tr th:only-of-type {\n",
              "        vertical-align: middle;\n",
              "    }\n",
              "\n",
              "    .dataframe tbody tr th {\n",
              "        vertical-align: top;\n",
              "    }\n",
              "\n",
              "    .dataframe thead th {\n",
              "        text-align: right;\n",
              "    }\n",
              "</style>\n",
              "<table border=\"1\" class=\"dataframe\">\n",
              "  <thead>\n",
              "    <tr style=\"text-align: right;\">\n",
              "      <th></th>\n",
              "      <th>Y_PRED</th>\n",
              "    </tr>\n",
              "  </thead>\n",
              "  <tbody>\n",
              "    <tr>\n",
              "      <th>0</th>\n",
              "      <td>0.0</td>\n",
              "    </tr>\n",
              "    <tr>\n",
              "      <th>1</th>\n",
              "      <td>0.5</td>\n",
              "    </tr>\n",
              "    <tr>\n",
              "      <th>2</th>\n",
              "      <td>1.0</td>\n",
              "    </tr>\n",
              "    <tr>\n",
              "      <th>3</th>\n",
              "      <td>0.0</td>\n",
              "    </tr>\n",
              "    <tr>\n",
              "      <th>4</th>\n",
              "      <td>0.5</td>\n",
              "    </tr>\n",
              "  </tbody>\n",
              "</table>\n",
              "</div>"
            ],
            "text/plain": [
              "   Y_PRED\n",
              "0     0.0\n",
              "1     0.5\n",
              "2     1.0\n",
              "3     0.0\n",
              "4     0.5"
            ]
          },
          "metadata": {
            "tags": []
          },
          "execution_count": 11
        }
      ]
    },
    {
      "metadata": {
        "id": "4VaSJN4nSicX",
        "colab_type": "text"
      },
      "cell_type": "markdown",
      "source": [
        "Y_PRED have to be float - as beleive of value to be 1"
      ]
    },
    {
      "metadata": {
        "id": "5nge8NL5D_9S",
        "colab_type": "text"
      },
      "cell_type": "markdown",
      "source": [
        "# Build Estimators"
      ]
    },
    {
      "metadata": {
        "id": "IMvbv40Hpf7-",
        "colab_type": "code",
        "colab": {}
      },
      "cell_type": "code",
      "source": [
        "# crete X and y\n",
        "X = train_df.iloc[:,0:-1].copy()\n",
        "y = train_df['Y']\n",
        "\n",
        "# divide to train and test\n",
        "X_train, X_test, y_train, y_test = train_test_split(X, y, test_size=0.1, random_state=3623467829)\n",
        "\n",
        "# preprocess features\n",
        "scaler = StandardScaler().fit(X_train)\n",
        "X_train = scaler.transform(X_train)\n",
        "\n",
        "# balance train set\n",
        "# from imblearn.over_sampling import SMOTE, ADASYN\n",
        "from imblearn.combine import SMOTEENN\n",
        "from collections import Counter\n",
        "X_resampled, y_resampled = SMOTEENN().fit_sample(X_train, y_train)\n",
        "X_train = X_resampled\n",
        "y_train = y_resampled\n"
      ],
      "execution_count": 0,
      "outputs": []
    },
    {
      "metadata": {
        "id": "XCtAWENFC7RE",
        "colab_type": "code",
        "colab": {}
      },
      "cell_type": "code",
      "source": [
        "from sklearn import metrics\n",
        "from keras import backend as K\n",
        "\n",
        "def auc(y_true, y_pred):\n",
        "    auc = tf.metrics.auc(y_true, y_pred)[1]\n",
        "    K.get_session().run(tf.local_variables_initializer())\n",
        "    return auc\n",
        "  "
      ],
      "execution_count": 0,
      "outputs": []
    },
    {
      "metadata": {
        "id": "Y8o1uXnTCeHZ",
        "colab_type": "code",
        "colab": {
          "base_uri": "https://localhost:8080/",
          "height": 204
        },
        "outputId": "5e801b6e-7c2e-47d4-bfab-b500de9cf33f"
      },
      "cell_type": "code",
      "source": [
        "\n",
        "# model\n",
        "model = Sequential()\n",
        "model.add(Dense(512, activation='relu', input_dim=20))\n",
        "model.add(Dropout(0.5))\n",
        "model.add(Dense(1024, activation='relu'))\n",
        "model.add(Dropout(0.5))\n",
        "model.add(Dense(1024, activation='relu'))\n",
        "model.add(Dropout(0.5))\n",
        "model.add(Dense(512, activation='relu'))\n",
        "model.add(Dropout(0.2))\n",
        "model.add(Dense(1, activation='sigmoid'))\n",
        "\n",
        "\n",
        "model.compile(loss=\"binary_crossentropy\", optimizer='adam', metrics=[auc])\n",
        "model.fit(X_train, y_train,\n",
        "          batch_size=32, epochs=5, verbose=1)\n",
        "  \n",
        "\n"
      ],
      "execution_count": 62,
      "outputs": [
        {
          "output_type": "stream",
          "text": [
            "Epoch 1/5\n",
            "319765/319765 [==============================] - 158s 493us/step - loss: 0.4070 - auc: 0.8678\n",
            "Epoch 2/5\n",
            "319765/319765 [==============================] - 156s 489us/step - loss: 0.3552 - auc: 0.8999\n",
            "Epoch 3/5\n",
            "319765/319765 [==============================] - 157s 490us/step - loss: 0.3287 - auc: 0.9099\n",
            "Epoch 4/5\n",
            "319765/319765 [==============================] - 158s 493us/step - loss: 0.3111 - auc: 0.9167\n",
            "Epoch 5/5\n",
            "319765/319765 [==============================] - 159s 498us/step - loss: 0.3006 - auc: 0.9218\n"
          ],
          "name": "stdout"
        },
        {
          "output_type": "execute_result",
          "data": {
            "text/plain": [
              "<keras.callbacks.History at 0x7fd4b811d320>"
            ]
          },
          "metadata": {
            "tags": []
          },
          "execution_count": 62
        }
      ]
    },
    {
      "metadata": {
        "id": "SBpMsnsJx_gU",
        "colab_type": "code",
        "colab": {
          "base_uri": "https://localhost:8080/",
          "height": 483
        },
        "outputId": "fa765794-54e4-4056-ece7-96777780c5a0"
      },
      "cell_type": "code",
      "source": [
        "# make prediction on test set\n",
        "X_test_2 = scaler.transform(X_test)\n",
        "\n",
        "y_pred = model.predict(X_test_2)\n",
        "# calculate score\n",
        "print(\"AUC ROC  %f\" % roc_auc_score(y_test, y_pred))\n",
        "\n",
        "y_pred1 = np.rint(y_pred[:,0])\n",
        "\n",
        "cnf_matrix = confusion_matrix(y_test, y_pred1)\n",
        "plot_confusion_matrix(cnf_matrix,[1,2])"
      ],
      "execution_count": 66,
      "outputs": [
        {
          "output_type": "stream",
          "text": [
            "AUC ROC  0.854421\n",
            "Confusion matrix, without normalization\n",
            "[[14708  3757]\n",
            " [   42   152]]\n"
          ],
          "name": "stdout"
        },
        {
          "output_type": "display_data",
          "data": {
            "image/png": "[encoded data removed]",
            "text/plain": [
              "<matplotlib.figure.Figure at 0x7fd4b6b621d0>"
            ]
          },
          "metadata": {
            "tags": []
          }
        }
      ]
    },
    {
      "metadata": {
        "id": "iOW5rFqaZgfT",
        "colab_type": "text"
      },
      "cell_type": "markdown",
      "source": [
        "Macro score is 0.278116, weighted score is 0.375937.  \n",
        "This is a little  better then dummy classifier macro score 0.212425 and weighted score 0.323443.  \n",
        "\n"
      ]
    },
    {
      "metadata": {
        "id": "5O5e7gBNdmN5",
        "colab_type": "text"
      },
      "cell_type": "markdown",
      "source": [
        "# Future work\n",
        "Presumably neural network approach can provide better results.  \n",
        "Key development directions:  \n",
        "1. Try deep architectures with [regularizers](https://keras.io/regularizers/)\n",
        "1. Make CNN with convolutions based on 'fX__rY - groups of features. Convolutions in image classification extruct base features from 2d-local regions, so hypotheses  is to extract  base features of provided data from fX groups of features (that presumably grouped in some space)\n",
        "1. Fit autoencoders on fX__rY groups of features and use them as input layer for 2-3 fully connected layers"
      ]
    },
    {
      "metadata": {
        "id": "muQu54e3qOb2",
        "colab_type": "code",
        "colab": {}
      },
      "cell_type": "code",
      "source": [
        ""
      ],
      "execution_count": 0,
      "outputs": []
    }
  ]
}