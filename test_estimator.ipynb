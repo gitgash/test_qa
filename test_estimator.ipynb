{
  "nbformat": 4,
  "nbformat_minor": 0,
  "metadata": {
    "colab": {
      "name": "Copy of ann-estimator.ipynb",
      "version": "0.3.2",
      "provenance": [],
      "collapsed_sections": [],
      "include_colab_link": true
    },
    "kernelspec": {
      "name": "python3",
      "display_name": "Python 3"
    },
    "accelerator": "GPU"
  },
  "cells": [
    {
      "cell_type": "markdown",
      "metadata": {
        "id": "view-in-github",
        "colab_type": "text"
      },
      "source": [
        "[View in Colaboratory](https://colab.research.google.com/github/gitgash/test_qa/blob/master/test_estimator.ipynb)"
      ]
    },
    {
      "metadata": {
        "id": "n-ZYBTgVwoIl",
        "colab_type": "text"
      },
      "cell_type": "markdown",
      "source": [
        "# Introduction\n",
        "This work have been proceed as test job for quantitative analyst.  \n",
        "Requirements:  \n",
        "get [train data](https://www.dropbox.com/s/2hqoisbqzzgym26/train.csv?dl=1) \n",
        "get [test data](https://www.dropbox.com/s/y9tbmdqtlclobgp/test.csv?dl=1) \n",
        "get [Sample prediction](https://www.dropbox.com/s/r5qu2ornfinrt1s/sample_prediction.csv?dl=1) \n",
        "\n",
        "and make estimator with highest AUC ROC metric.  \n",
        "\n",
        "During  this work it have been done: \n",
        "1. data exploration,\n",
        "1. 'traditional' model creation \n",
        "1. artificial neural network model creation.\n",
        "\n",
        "Results considered in conclusion section.  \n",
        "Google (tm) [Colab.research](https://colab.research.google.com) have been used in this work, but methodology and technology (jupyter notebook) tools can be used in any suitable environment (python, scikit learn, pandas, numpy, tensorflow, keras).  \n",
        "Style of the work is reproducible  - anybody can run this notebook and reproduce results.  \n",
        "So lets start."
      ]
    },
    {
      "metadata": {
        "id": "K_XpycV2ym75",
        "colab_type": "text"
      },
      "cell_type": "markdown",
      "source": [
        "# Data Exploration\n",
        "In process of data exploration following steps have been proceed:\n",
        "1. Loading data\n",
        "1. Simple exploration\n",
        "1. Correlation analysis\n"
      ]
    },
    {
      "metadata": {
        "id": "v1lM6ZDf0kU0",
        "colab_type": "text"
      },
      "cell_type": "markdown",
      "source": [
        "## Load data\n",
        "Data file have been place to dropbox so we load them from there by url."
      ]
    },
    {
      "metadata": {
        "id": "p2ou6aWO85Kn",
        "colab_type": "code",
        "colab": {}
      },
      "cell_type": "code",
      "source": [
        "# It is preleminary section where we include part of libraries used later \n",
        "# and define utility functions\n",
        "import tensorflow as tf\n",
        "import pandas as pd\n",
        "import numpy as np\n",
        "import seaborn as sns\n",
        "import matplotlib.pyplot as plt\n",
        "from sklearn.model_selection import train_test_split\n",
        "import keras\n",
        "from keras.models import Sequential\n",
        "from keras.layers import Dense, Dropout, Activation\n",
        "from keras.optimizers import SGD\n",
        "from sklearn.preprocessing import StandardScaler\n",
        "from sklearn.decomposition import PCA\n",
        "from sklearn.metrics import roc_auc_score\n",
        "\n",
        "import matplotlib.pyplot as plt\n",
        "from sklearn.metrics import confusion_matrix\n",
        "import itertools\n",
        "\n",
        "\n",
        "# Plot confision matrix function\n",
        "# (c) by scikit lear documentation and examples\n",
        "def plot_confusion_matrix(cm, classes,\n",
        "                          normalize=False,\n",
        "                          title='Confusion matrix',\n",
        "                          cmap=plt.cm.Blues):\n",
        "    \"\"\"\n",
        "    This function prints and plots the confusion matrix.\n",
        "    Normalization can be applied by setting `normalize=True`.\n",
        "    \"\"\"\n",
        "    if normalize:\n",
        "        cm = cm.astype('float') / cm.sum(axis=1)[:, np.newaxis]\n",
        "        print(\"Normalized confusion matrix\")\n",
        "    else:\n",
        "        print('Confusion matrix, without normalization')\n",
        "\n",
        "    print(cm)\n",
        "\n",
        "    plt.imshow(cm, interpolation='nearest', cmap=cmap)\n",
        "    plt.title(title)\n",
        "    plt.colorbar()\n",
        "    tick_marks = np.arange(len(classes))\n",
        "    plt.xticks(tick_marks, classes, rotation=45)\n",
        "    plt.yticks(tick_marks, classes)\n",
        "\n",
        "    fmt = '.2f' if normalize else 'd'\n",
        "    thresh = cm.max() / 2.\n",
        "    for i, j in itertools.product(range(cm.shape[0]), range(cm.shape[1])):\n",
        "        plt.text(j, i, format(cm[i, j], fmt),\n",
        "                 horizontalalignment=\"center\",\n",
        "                 color=\"white\" if cm[i, j] > thresh else \"black\")\n",
        "\n",
        "    plt.tight_layout()\n",
        "    plt.ylabel('True label')\n",
        "    plt.xlabel('Predicted label')"
      ],
      "execution_count": 0,
      "outputs": []
    },
    {
      "metadata": {
        "id": "XJtRvHpu2B92",
        "colab_type": "text"
      },
      "cell_type": "markdown",
      "source": [
        "We use side library to upsample imbalanced test set (later explained) - so we need to install it:"
      ]
    },
    {
      "metadata": {
        "id": "-FcSk1RmAVEK",
        "colab_type": "code",
        "colab": {
          "base_uri": "https://localhost:8080/",
          "height": 273
        },
        "outputId": "749482da-f77a-4a15-f6bc-0b30e56e9011"
      },
      "cell_type": "code",
      "source": [
        "!pip install -U imbalanced-learn"
      ],
      "execution_count": 2,
      "outputs": [
        {
          "output_type": "stream",
          "text": [
            "Collecting imbalanced-learn\n",
            "\u001b[?25l  Downloading https://files.pythonhosted.org/packages/80/a4/900463a3c0af082aed9c5a43f4ec317a9469710c5ef80496c9abc26ed0ca/imbalanced_learn-0.3.3-py3-none-any.whl (144kB)\n",
            "\u001b[K    100% |████████████████████████████████| 153kB 12.2MB/s \n",
            "\u001b[?25hRequirement already satisfied, skipping upgrade: scipy in /usr/local/lib/python3.6/dist-packages (from imbalanced-learn) (0.19.1)\n",
            "Requirement already satisfied, skipping upgrade: scikit-learn in /usr/local/lib/python3.6/dist-packages (from imbalanced-learn) (0.19.2)\n",
            "Requirement already satisfied, skipping upgrade: numpy in /usr/local/lib/python3.6/dist-packages (from imbalanced-learn) (1.14.5)\n",
            "Installing collected packages: imbalanced-learn\n",
            "Successfully installed imbalanced-learn-0.3.3\n"
          ],
          "name": "stdout"
        }
      ]
    },
    {
      "metadata": {
        "id": "P_XAWfC39E2o",
        "colab_type": "code",
        "colab": {}
      },
      "cell_type": "code",
      "source": [
        "# load dataset into pandas dataframe\n",
        "\n",
        "train_df = pd.read_csv(\"https://www.dropbox.com/s/2hqoisbqzzgym26/train.csv?dl=1\")\n",
        "test_df = pd.read_csv(\"https://www.dropbox.com/s/y9tbmdqtlclobgp/test.csv?dl=1\")\n",
        "sample_df = pd.read_csv(\"https://www.dropbox.com/s/r5qu2ornfinrt1s/sample_prediction.csv?dl=1\")"
      ],
      "execution_count": 0,
      "outputs": []
    },
    {
      "metadata": {
        "id": "426czUMK27qH",
        "colab_type": "text"
      },
      "cell_type": "markdown",
      "source": [
        "## Simple data exploration"
      ]
    },
    {
      "metadata": {
        "id": "LutKlcY13Asy",
        "colab_type": "code",
        "colab": {
          "base_uri": "https://localhost:8080/",
          "height": 800
        },
        "outputId": "650159df-7237-46a6-f40a-29d4d44c45bd"
      },
      "cell_type": "code",
      "source": [
        "train_df.info()\n",
        "train_df.head()"
      ],
      "execution_count": 4,
      "outputs": [
        {
          "output_type": "stream",
          "text": [
            "<class 'pandas.core.frame.DataFrame'>\n",
            "RangeIndex: 186590 entries, 0 to 186589\n",
            "Data columns (total 21 columns):\n",
            "VASK0         186590 non-null int64\n",
            "VASK1         186590 non-null int64\n",
            "VASK2         186590 non-null int64\n",
            "VASK3         186590 non-null int64\n",
            "VASK4         186590 non-null int64\n",
            "VBID0         186590 non-null int64\n",
            "VBID1         186590 non-null int64\n",
            "VBID2         186590 non-null int64\n",
            "VBID3         186590 non-null int64\n",
            "VBID4         186590 non-null int64\n",
            "VASK0_PREV    186590 non-null int64\n",
            "VASK1_PREV    186590 non-null int64\n",
            "VASK2_PREV    186590 non-null int64\n",
            "VASK3_PREV    186590 non-null int64\n",
            "VASK4_PREV    186590 non-null int64\n",
            "VBID0_PREV    186590 non-null int64\n",
            "VBID1_PREV    186590 non-null int64\n",
            "VBID2_PREV    186590 non-null int64\n",
            "VBID3_PREV    186590 non-null int64\n",
            "VBID4_PREV    186590 non-null int64\n",
            "Y             186590 non-null int64\n",
            "dtypes: int64(21)\n",
            "memory usage: 29.9 MB\n"
          ],
          "name": "stdout"
        },
        {
          "output_type": "execute_result",
          "data": {
            "text/html": [
              "<div>\n",
              "<style scoped>\n",
              "    .dataframe tbody tr th:only-of-type {\n",
              "        vertical-align: middle;\n",
              "    }\n",
              "\n",
              "    .dataframe tbody tr th {\n",
              "        vertical-align: top;\n",
              "    }\n",
              "\n",
              "    .dataframe thead th {\n",
              "        text-align: right;\n",
              "    }\n",
              "</style>\n",
              "<table border=\"1\" class=\"dataframe\">\n",
              "  <thead>\n",
              "    <tr style=\"text-align: right;\">\n",
              "      <th></th>\n",
              "      <th>VASK0</th>\n",
              "      <th>VASK1</th>\n",
              "      <th>VASK2</th>\n",
              "      <th>VASK3</th>\n",
              "      <th>VASK4</th>\n",
              "      <th>VBID0</th>\n",
              "      <th>VBID1</th>\n",
              "      <th>VBID2</th>\n",
              "      <th>VBID3</th>\n",
              "      <th>VBID4</th>\n",
              "      <th>...</th>\n",
              "      <th>VASK1_PREV</th>\n",
              "      <th>VASK2_PREV</th>\n",
              "      <th>VASK3_PREV</th>\n",
              "      <th>VASK4_PREV</th>\n",
              "      <th>VBID0_PREV</th>\n",
              "      <th>VBID1_PREV</th>\n",
              "      <th>VBID2_PREV</th>\n",
              "      <th>VBID3_PREV</th>\n",
              "      <th>VBID4_PREV</th>\n",
              "      <th>Y</th>\n",
              "    </tr>\n",
              "  </thead>\n",
              "  <tbody>\n",
              "    <tr>\n",
              "      <th>0</th>\n",
              "      <td>108</td>\n",
              "      <td>276</td>\n",
              "      <td>224</td>\n",
              "      <td>196</td>\n",
              "      <td>195</td>\n",
              "      <td>132</td>\n",
              "      <td>181</td>\n",
              "      <td>253</td>\n",
              "      <td>207</td>\n",
              "      <td>185</td>\n",
              "      <td>...</td>\n",
              "      <td>276</td>\n",
              "      <td>224</td>\n",
              "      <td>196</td>\n",
              "      <td>195</td>\n",
              "      <td>136</td>\n",
              "      <td>181</td>\n",
              "      <td>253</td>\n",
              "      <td>207</td>\n",
              "      <td>185</td>\n",
              "      <td>0</td>\n",
              "    </tr>\n",
              "    <tr>\n",
              "      <th>1</th>\n",
              "      <td>47</td>\n",
              "      <td>132</td>\n",
              "      <td>197</td>\n",
              "      <td>236</td>\n",
              "      <td>188</td>\n",
              "      <td>81</td>\n",
              "      <td>146</td>\n",
              "      <td>193</td>\n",
              "      <td>169</td>\n",
              "      <td>192</td>\n",
              "      <td>...</td>\n",
              "      <td>132</td>\n",
              "      <td>197</td>\n",
              "      <td>236</td>\n",
              "      <td>188</td>\n",
              "      <td>81</td>\n",
              "      <td>146</td>\n",
              "      <td>193</td>\n",
              "      <td>169</td>\n",
              "      <td>192</td>\n",
              "      <td>0</td>\n",
              "    </tr>\n",
              "    <tr>\n",
              "      <th>2</th>\n",
              "      <td>93</td>\n",
              "      <td>172</td>\n",
              "      <td>193</td>\n",
              "      <td>226</td>\n",
              "      <td>232</td>\n",
              "      <td>33</td>\n",
              "      <td>128</td>\n",
              "      <td>168</td>\n",
              "      <td>145</td>\n",
              "      <td>140</td>\n",
              "      <td>...</td>\n",
              "      <td>172</td>\n",
              "      <td>193</td>\n",
              "      <td>226</td>\n",
              "      <td>232</td>\n",
              "      <td>33</td>\n",
              "      <td>128</td>\n",
              "      <td>168</td>\n",
              "      <td>145</td>\n",
              "      <td>140</td>\n",
              "      <td>0</td>\n",
              "    </tr>\n",
              "    <tr>\n",
              "      <th>3</th>\n",
              "      <td>62</td>\n",
              "      <td>104</td>\n",
              "      <td>169</td>\n",
              "      <td>188</td>\n",
              "      <td>140</td>\n",
              "      <td>75</td>\n",
              "      <td>165</td>\n",
              "      <td>151</td>\n",
              "      <td>206</td>\n",
              "      <td>105</td>\n",
              "      <td>...</td>\n",
              "      <td>104</td>\n",
              "      <td>169</td>\n",
              "      <td>188</td>\n",
              "      <td>140</td>\n",
              "      <td>81</td>\n",
              "      <td>165</td>\n",
              "      <td>151</td>\n",
              "      <td>206</td>\n",
              "      <td>105</td>\n",
              "      <td>0</td>\n",
              "    </tr>\n",
              "    <tr>\n",
              "      <th>4</th>\n",
              "      <td>40</td>\n",
              "      <td>43</td>\n",
              "      <td>87</td>\n",
              "      <td>110</td>\n",
              "      <td>99</td>\n",
              "      <td>11</td>\n",
              "      <td>66</td>\n",
              "      <td>77</td>\n",
              "      <td>155</td>\n",
              "      <td>364</td>\n",
              "      <td>...</td>\n",
              "      <td>43</td>\n",
              "      <td>87</td>\n",
              "      <td>110</td>\n",
              "      <td>99</td>\n",
              "      <td>11</td>\n",
              "      <td>66</td>\n",
              "      <td>77</td>\n",
              "      <td>153</td>\n",
              "      <td>364</td>\n",
              "      <td>0</td>\n",
              "    </tr>\n",
              "  </tbody>\n",
              "</table>\n",
              "<p>5 rows × 21 columns</p>\n",
              "</div>"
            ],
            "text/plain": [
              "   VASK0  VASK1  VASK2  VASK3  VASK4  VBID0  VBID1  VBID2  VBID3  VBID4 ...  \\\n",
              "0    108    276    224    196    195    132    181    253    207    185 ...   \n",
              "1     47    132    197    236    188     81    146    193    169    192 ...   \n",
              "2     93    172    193    226    232     33    128    168    145    140 ...   \n",
              "3     62    104    169    188    140     75    165    151    206    105 ...   \n",
              "4     40     43     87    110     99     11     66     77    155    364 ...   \n",
              "\n",
              "   VASK1_PREV  VASK2_PREV  VASK3_PREV  VASK4_PREV  VBID0_PREV  VBID1_PREV  \\\n",
              "0         276         224         196         195         136         181   \n",
              "1         132         197         236         188          81         146   \n",
              "2         172         193         226         232          33         128   \n",
              "3         104         169         188         140          81         165   \n",
              "4          43          87         110          99          11          66   \n",
              "\n",
              "   VBID2_PREV  VBID3_PREV  VBID4_PREV  Y  \n",
              "0         253         207         185  0  \n",
              "1         193         169         192  0  \n",
              "2         168         145         140  0  \n",
              "3         151         206         105  0  \n",
              "4          77         153         364  0  \n",
              "\n",
              "[5 rows x 21 columns]"
            ]
          },
          "metadata": {
            "tags": []
          },
          "execution_count": 4
        }
      ]
    },
    {
      "metadata": {
        "id": "ksERn-ym3QFM",
        "colab_type": "text"
      },
      "cell_type": "markdown",
      "source": [
        "186590 examples -  not bad for deep learning  \n",
        "'Y' column contains label.  \n",
        "21 columns, 1 - label so we have 20 features.  \n",
        "Features are finteger  \n",
        "Lets look on the features: "
      ]
    },
    {
      "metadata": {
        "id": "wCALMjBi6KYY",
        "colab_type": "code",
        "colab": {
          "base_uri": "https://localhost:8080/",
          "height": 357
        },
        "outputId": "4bc66a5e-d8c3-46b5-ef25-3c0472c957e9"
      },
      "cell_type": "code",
      "source": [
        "# Looking for names\n",
        "for s in train_df.columns[0:-1]:\n",
        "    print(\"%s\\t%d\" % (s, train_df[s].count()))"
      ],
      "execution_count": 6,
      "outputs": [
        {
          "output_type": "stream",
          "text": [
            "VASK0\t186590\n",
            "VASK1\t186590\n",
            "VASK2\t186590\n",
            "VASK3\t186590\n",
            "VASK4\t186590\n",
            "VBID0\t186590\n",
            "VBID1\t186590\n",
            "VBID2\t186590\n",
            "VBID3\t186590\n",
            "VBID4\t186590\n",
            "VASK0_PREV\t186590\n",
            "VASK1_PREV\t186590\n",
            "VASK2_PREV\t186590\n",
            "VASK3_PREV\t186590\n",
            "VASK4_PREV\t186590\n",
            "VBID0_PREV\t186590\n",
            "VBID1_PREV\t186590\n",
            "VBID2_PREV\t186590\n",
            "VBID3_PREV\t186590\n",
            "VBID4_PREV\t186590\n"
          ],
          "name": "stdout"
        }
      ]
    },
    {
      "metadata": {
        "id": "v5lrp-FH9LJ5",
        "colab_type": "text"
      },
      "cell_type": "markdown",
      "source": [
        "As been said in description there are top 5 bids and asks for current time and previous moment.     \n",
        "No NaN values in columns.   \n",
        "What about labels?  "
      ]
    },
    {
      "metadata": {
        "id": "dtC1rnGe9dLc",
        "colab_type": "code",
        "colab": {
          "base_uri": "https://localhost:8080/",
          "height": 650
        },
        "outputId": "55b57cb6-b781-41b0-e03f-f79fa53c4349"
      },
      "cell_type": "code",
      "source": [
        "print(train_df['Y'].describe())\n",
        "plt.figure(figsize=(9, 8))\n",
        "sns.distplot(train_df['Y'], color='g', bins=2, hist_kws={'alpha': 0.4});"
      ],
      "execution_count": 7,
      "outputs": [
        {
          "output_type": "stream",
          "text": [
            "count    186590.000000\n",
            "mean          0.010258\n",
            "std           0.100760\n",
            "min           0.000000\n",
            "25%           0.000000\n",
            "50%           0.000000\n",
            "75%           0.000000\n",
            "max           1.000000\n",
            "Name: Y, dtype: float64\n"
          ],
          "name": "stdout"
        },
        {
          "output_type": "display_data",
          "data": {
            "image/png": "[encoded data removed]",
            "text/plain": [
              "<matplotlib.figure.Figure at 0x7f1edb48dcf8>"
            ]
          },
          "metadata": {
            "tags": []
          }
        }
      ]
    },
    {
      "metadata": {
        "id": "0QrCw5CN-M3N",
        "colab_type": "text"
      },
      "cell_type": "markdown",
      "source": [
        "Labels are strongly imbalanced: class '1' prevails over 0.  \n"
      ]
    },
    {
      "metadata": {
        "id": "a688D6xJ-943",
        "colab_type": "text"
      },
      "cell_type": "markdown",
      "source": [
        "# Correlation analisys"
      ]
    },
    {
      "metadata": {
        "id": "vBwUfxSg_N1H",
        "colab_type": "code",
        "colab": {
          "base_uri": "https://localhost:8080/",
          "height": 374
        },
        "outputId": "e820157e-6104-4363-9110-5424f3573ae8"
      },
      "cell_type": "code",
      "source": [
        "# calculate correlation matrix and get 'label' correlation column\n",
        "df_num_corr = train_df.corr()['Y'][:-1]\n",
        "# get absolute value of correlation\n",
        "abs_corr = abs(df_num_corr)\n",
        "# sort and get top 20\n",
        "abs_corr.sort_values(ascending=False).head(20)"
      ],
      "execution_count": 8,
      "outputs": [
        {
          "output_type": "execute_result",
          "data": {
            "text/plain": [
              "VBID0         0.025155\n",
              "VASK0         0.024026\n",
              "VBID0_PREV    0.023590\n",
              "VASK0_PREV    0.022126\n",
              "VBID1         0.007163\n",
              "VBID1_PREV    0.007082\n",
              "VBID3_PREV    0.006144\n",
              "VBID3         0.006133\n",
              "VASK1         0.005619\n",
              "VASK1_PREV    0.005569\n",
              "VASK4_PREV    0.004739\n",
              "VASK4         0.004727\n",
              "VASK3         0.004548\n",
              "VASK3_PREV    0.004537\n",
              "VASK2         0.004106\n",
              "VASK2_PREV    0.004067\n",
              "VBID2         0.003978\n",
              "VBID2_PREV    0.003969\n",
              "VBID4_PREV    0.003783\n",
              "VBID4         0.003782\n",
              "Name: Y, dtype: float64"
            ]
          },
          "metadata": {
            "tags": []
          },
          "execution_count": 8
        }
      ]
    },
    {
      "metadata": {
        "id": "yQn79jAWB-UE",
        "colab_type": "text"
      },
      "cell_type": "markdown",
      "source": [
        "Correlation is week"
      ]
    },
    {
      "metadata": {
        "id": "M4LtmFtCRxEB",
        "colab_type": "text"
      },
      "cell_type": "markdown",
      "source": [
        "## What about test data?"
      ]
    },
    {
      "metadata": {
        "id": "ugXSLesFR8Oj",
        "colab_type": "code",
        "colab": {
          "base_uri": "https://localhost:8080/",
          "height": 329
        },
        "outputId": "b31cbb75-ca8c-4154-c77e-cad44eb3c230"
      },
      "cell_type": "code",
      "source": [
        "test_df.head()"
      ],
      "execution_count": 10,
      "outputs": [
        {
          "output_type": "execute_result",
          "data": {
            "text/html": [
              "<div>\n",
              "<style scoped>\n",
              "    .dataframe tbody tr th:only-of-type {\n",
              "        vertical-align: middle;\n",
              "    }\n",
              "\n",
              "    .dataframe tbody tr th {\n",
              "        vertical-align: top;\n",
              "    }\n",
              "\n",
              "    .dataframe thead th {\n",
              "        text-align: right;\n",
              "    }\n",
              "</style>\n",
              "<table border=\"1\" class=\"dataframe\">\n",
              "  <thead>\n",
              "    <tr style=\"text-align: right;\">\n",
              "      <th></th>\n",
              "      <th>VASK0</th>\n",
              "      <th>VASK1</th>\n",
              "      <th>VASK2</th>\n",
              "      <th>VASK3</th>\n",
              "      <th>VASK4</th>\n",
              "      <th>VBID0</th>\n",
              "      <th>VBID1</th>\n",
              "      <th>VBID2</th>\n",
              "      <th>VBID3</th>\n",
              "      <th>VBID4</th>\n",
              "      <th>VASK0_PREV</th>\n",
              "      <th>VASK1_PREV</th>\n",
              "      <th>VASK2_PREV</th>\n",
              "      <th>VASK3_PREV</th>\n",
              "      <th>VASK4_PREV</th>\n",
              "      <th>VBID0_PREV</th>\n",
              "      <th>VBID1_PREV</th>\n",
              "      <th>VBID2_PREV</th>\n",
              "      <th>VBID3_PREV</th>\n",
              "      <th>VBID4_PREV</th>\n",
              "    </tr>\n",
              "  </thead>\n",
              "  <tbody>\n",
              "    <tr>\n",
              "      <th>0</th>\n",
              "      <td>187</td>\n",
              "      <td>341</td>\n",
              "      <td>385</td>\n",
              "      <td>375</td>\n",
              "      <td>323</td>\n",
              "      <td>134</td>\n",
              "      <td>158</td>\n",
              "      <td>213</td>\n",
              "      <td>222</td>\n",
              "      <td>180</td>\n",
              "      <td>187</td>\n",
              "      <td>341</td>\n",
              "      <td>385</td>\n",
              "      <td>375</td>\n",
              "      <td>323</td>\n",
              "      <td>134</td>\n",
              "      <td>158</td>\n",
              "      <td>212</td>\n",
              "      <td>222</td>\n",
              "      <td>180</td>\n",
              "    </tr>\n",
              "    <tr>\n",
              "      <th>1</th>\n",
              "      <td>37</td>\n",
              "      <td>165</td>\n",
              "      <td>144</td>\n",
              "      <td>160</td>\n",
              "      <td>146</td>\n",
              "      <td>89</td>\n",
              "      <td>101</td>\n",
              "      <td>184</td>\n",
              "      <td>162</td>\n",
              "      <td>123</td>\n",
              "      <td>38</td>\n",
              "      <td>165</td>\n",
              "      <td>144</td>\n",
              "      <td>160</td>\n",
              "      <td>146</td>\n",
              "      <td>89</td>\n",
              "      <td>101</td>\n",
              "      <td>185</td>\n",
              "      <td>162</td>\n",
              "      <td>123</td>\n",
              "    </tr>\n",
              "    <tr>\n",
              "      <th>2</th>\n",
              "      <td>195</td>\n",
              "      <td>192</td>\n",
              "      <td>211</td>\n",
              "      <td>178</td>\n",
              "      <td>188</td>\n",
              "      <td>18</td>\n",
              "      <td>114</td>\n",
              "      <td>162</td>\n",
              "      <td>163</td>\n",
              "      <td>167</td>\n",
              "      <td>195</td>\n",
              "      <td>192</td>\n",
              "      <td>211</td>\n",
              "      <td>178</td>\n",
              "      <td>188</td>\n",
              "      <td>18</td>\n",
              "      <td>114</td>\n",
              "      <td>162</td>\n",
              "      <td>163</td>\n",
              "      <td>167</td>\n",
              "    </tr>\n",
              "    <tr>\n",
              "      <th>3</th>\n",
              "      <td>5</td>\n",
              "      <td>180</td>\n",
              "      <td>143</td>\n",
              "      <td>159</td>\n",
              "      <td>194</td>\n",
              "      <td>109</td>\n",
              "      <td>127</td>\n",
              "      <td>224</td>\n",
              "      <td>133</td>\n",
              "      <td>132</td>\n",
              "      <td>5</td>\n",
              "      <td>180</td>\n",
              "      <td>143</td>\n",
              "      <td>159</td>\n",
              "      <td>194</td>\n",
              "      <td>110</td>\n",
              "      <td>127</td>\n",
              "      <td>224</td>\n",
              "      <td>133</td>\n",
              "      <td>132</td>\n",
              "    </tr>\n",
              "    <tr>\n",
              "      <th>4</th>\n",
              "      <td>117</td>\n",
              "      <td>156</td>\n",
              "      <td>154</td>\n",
              "      <td>169</td>\n",
              "      <td>139</td>\n",
              "      <td>48</td>\n",
              "      <td>129</td>\n",
              "      <td>148</td>\n",
              "      <td>159</td>\n",
              "      <td>177</td>\n",
              "      <td>117</td>\n",
              "      <td>156</td>\n",
              "      <td>154</td>\n",
              "      <td>169</td>\n",
              "      <td>139</td>\n",
              "      <td>48</td>\n",
              "      <td>128</td>\n",
              "      <td>148</td>\n",
              "      <td>159</td>\n",
              "      <td>177</td>\n",
              "    </tr>\n",
              "  </tbody>\n",
              "</table>\n",
              "</div>"
            ],
            "text/plain": [
              "   VASK0  VASK1  VASK2  VASK3  VASK4  VBID0  VBID1  VBID2  VBID3  VBID4  \\\n",
              "0    187    341    385    375    323    134    158    213    222    180   \n",
              "1     37    165    144    160    146     89    101    184    162    123   \n",
              "2    195    192    211    178    188     18    114    162    163    167   \n",
              "3      5    180    143    159    194    109    127    224    133    132   \n",
              "4    117    156    154    169    139     48    129    148    159    177   \n",
              "\n",
              "   VASK0_PREV  VASK1_PREV  VASK2_PREV  VASK3_PREV  VASK4_PREV  VBID0_PREV  \\\n",
              "0         187         341         385         375         323         134   \n",
              "1          38         165         144         160         146          89   \n",
              "2         195         192         211         178         188          18   \n",
              "3           5         180         143         159         194         110   \n",
              "4         117         156         154         169         139          48   \n",
              "\n",
              "   VBID1_PREV  VBID2_PREV  VBID3_PREV  VBID4_PREV  \n",
              "0         158         212         222         180  \n",
              "1         101         185         162         123  \n",
              "2         114         162         163         167  \n",
              "3         127         224         133         132  \n",
              "4         128         148         159         177  "
            ]
          },
          "metadata": {
            "tags": []
          },
          "execution_count": 10
        }
      ]
    },
    {
      "metadata": {
        "id": "wlVza48tSMBm",
        "colab_type": "text"
      },
      "cell_type": "markdown",
      "source": [
        "No target - the rest is the same as train"
      ]
    },
    {
      "metadata": {
        "id": "oha5lvBdSU0u",
        "colab_type": "text"
      },
      "cell_type": "markdown",
      "source": [
        "## What about sample?"
      ]
    },
    {
      "metadata": {
        "id": "z0dlPkxDSZWa",
        "colab_type": "code",
        "colab": {
          "base_uri": "https://localhost:8080/",
          "height": 204
        },
        "outputId": "2f5c361c-79c3-4b72-90d6-4c50012fa062"
      },
      "cell_type": "code",
      "source": [
        "sample_df.head()"
      ],
      "execution_count": 11,
      "outputs": [
        {
          "output_type": "execute_result",
          "data": {
            "text/html": [
              "<div>\n",
              "<style scoped>\n",
              "    .dataframe tbody tr th:only-of-type {\n",
              "        vertical-align: middle;\n",
              "    }\n",
              "\n",
              "    .dataframe tbody tr th {\n",
              "        vertical-align: top;\n",
              "    }\n",
              "\n",
              "    .dataframe thead th {\n",
              "        text-align: right;\n",
              "    }\n",
              "</style>\n",
              "<table border=\"1\" class=\"dataframe\">\n",
              "  <thead>\n",
              "    <tr style=\"text-align: right;\">\n",
              "      <th></th>\n",
              "      <th>Y_PRED</th>\n",
              "    </tr>\n",
              "  </thead>\n",
              "  <tbody>\n",
              "    <tr>\n",
              "      <th>0</th>\n",
              "      <td>0.0</td>\n",
              "    </tr>\n",
              "    <tr>\n",
              "      <th>1</th>\n",
              "      <td>0.5</td>\n",
              "    </tr>\n",
              "    <tr>\n",
              "      <th>2</th>\n",
              "      <td>1.0</td>\n",
              "    </tr>\n",
              "    <tr>\n",
              "      <th>3</th>\n",
              "      <td>0.0</td>\n",
              "    </tr>\n",
              "    <tr>\n",
              "      <th>4</th>\n",
              "      <td>0.5</td>\n",
              "    </tr>\n",
              "  </tbody>\n",
              "</table>\n",
              "</div>"
            ],
            "text/plain": [
              "   Y_PRED\n",
              "0     0.0\n",
              "1     0.5\n",
              "2     1.0\n",
              "3     0.0\n",
              "4     0.5"
            ]
          },
          "metadata": {
            "tags": []
          },
          "execution_count": 11
        }
      ]
    },
    {
      "metadata": {
        "id": "4VaSJN4nSicX",
        "colab_type": "text"
      },
      "cell_type": "markdown",
      "source": [
        "Y_PRED have to be float - as beleive of value to be 1"
      ]
    },
    {
      "metadata": {
        "id": "5nge8NL5D_9S",
        "colab_type": "text"
      },
      "cell_type": "markdown",
      "source": [
        "# Build Estimators"
      ]
    },
    {
      "metadata": {
        "id": "5-0EIdouMn6_",
        "colab_type": "text"
      },
      "cell_type": "markdown",
      "source": [
        "Lets make train and test dataset"
      ]
    },
    {
      "metadata": {
        "id": "kvek707IMuA_",
        "colab_type": "code",
        "colab": {}
      },
      "cell_type": "code",
      "source": [
        "# crete X and y\n",
        "X = train_df.iloc[:,0:-1].copy()\n",
        "y = train_df['Y']\n",
        "\n",
        "# divide to train and test\n",
        "X_train, X_test, y_train, y_test = train_test_split(X, y, test_size=0.1, random_state=3623467829)"
      ],
      "execution_count": 0,
      "outputs": []
    },
    {
      "metadata": {
        "id": "8DEIjScrWW8W",
        "colab_type": "text"
      },
      "cell_type": "markdown",
      "source": [
        "Ground floor estimator"
      ]
    },
    {
      "metadata": {
        "id": "UrARNIAyKXQH",
        "colab_type": "code",
        "colab": {
          "base_uri": "https://localhost:8080/",
          "height": 51
        },
        "outputId": "0583509a-9be9-4917-95be-b832c9b487e7"
      },
      "cell_type": "code",
      "source": [
        "from sklearn.dummy import DummyClassifier\n",
        "\n",
        "# calculate ground floor for stratified dummy classifier\n",
        "clf = DummyClassifier(strategy='stratified',random_state=0)\n",
        "clf.fit(X_train, y_train)\n",
        "y_pred = clf.predict(X_train)\n",
        "print(\"F1 dummy stratified  %f\" % roc_auc_score(y_train, y_pred))\n",
        "\n",
        "# calculate ground flow for most_frequent dummy classifier\n",
        "clf = DummyClassifier(strategy='most_frequent',random_state=0)\n",
        "clf.fit(X_train, y_train)\n",
        "y_pred = clf.predict(X_train)\n",
        "print(\"F1 dummy most frequent  %f\" % roc_auc_score(y_train, y_pred))\n",
        "\n"
      ],
      "execution_count": 17,
      "outputs": [
        {
          "output_type": "stream",
          "text": [
            "F1 dummy stratified  0.501272\n",
            "F1 dummy most frequent  0.500000\n"
          ],
          "name": "stdout"
        }
      ]
    },
    {
      "metadata": {
        "id": "sEB-F1phO0jL",
        "colab_type": "text"
      },
      "cell_type": "markdown",
      "source": [
        "Bad estimator give us 0.5 AUC_ROC metric"
      ]
    },
    {
      "metadata": {
        "id": "M_7gmRjfPXge",
        "colab_type": "text"
      },
      "cell_type": "markdown",
      "source": [
        "## Traditional estimator"
      ]
    },
    {
      "metadata": {
        "id": "hGNW6PpkAQTy",
        "colab_type": "code",
        "colab": {}
      },
      "cell_type": "code",
      "source": [
        "# import requried modules\n",
        "from sklearn import preprocessing\n",
        "from sklearn.preprocessing import StandardScaler\n",
        "from sklearn.decomposition import PCA\n",
        "from sklearn.svm import SVC\n",
        "from time import time\n",
        "from sklearn.model_selection import GridSearchCV\n",
        "from sklearn.pipeline import Pipeline"
      ],
      "execution_count": 0,
      "outputs": []
    },
    {
      "metadata": {
        "id": "BOJseb8dUht-",
        "colab_type": "text"
      },
      "cell_type": "markdown",
      "source": [
        "fix 'ho free space' error:"
      ]
    },
    {
      "metadata": {
        "id": "LKbXc4rTURMc",
        "colab_type": "code",
        "colab": {}
      },
      "cell_type": "code",
      "source": [
        "import os\n",
        "os.environ['JOBLIB_TEMP_FOLDER']='/tmp'"
      ],
      "execution_count": 0,
      "outputs": []
    },
    {
      "metadata": {
        "id": "IeIowYzLUuDm",
        "colab_type": "text"
      },
      "cell_type": "markdown",
      "source": [
        "Technical dilemma: its impossible to reproduce fitting metaparameters process on chosen environment - google colab timed out if we try grid_search for given case.  \n",
        "Decision  implemented: run grid_search on controlled environment and then put optimal params to google colab notebook to keep research reproducible.  \n",
        "grid_search code commented out bellow."
      ]
    },
    {
      "metadata": {
        "id": "6p3NzZ4qPtYa",
        "colab_type": "code",
        "colab": {
          "base_uri": "https://localhost:8080/",
          "height": 68
        },
        "outputId": "39f1d891-1561-4023-fce9-bc199c60621b"
      },
      "cell_type": "code",
      "source": [
        "# balance training set by oversampling\n",
        "from imblearn.over_sampling import SMOTE\n",
        "X_resampled, y_resampled = SMOTE().fit_sample(X_train, y_train)\n",
        "from collections import Counter\n",
        "print(sorted(Counter(y_resampled).items()))\n",
        "\n",
        "\n",
        "# preprocess features\n",
        "scaler = StandardScaler().fit(X_train)\n",
        "X_train = scaler.transform(X_train)\n",
        "\n",
        "# create emty params to fill later\n",
        "params = {}\n",
        "\n",
        "# SVM\n",
        "svm = SVC(kernel='rbf')\n",
        "params['svm__gamma'] = [0.005, 0.01, 0.05]\n",
        "\n",
        "# define pipeline\n",
        "pipeline = Pipeline([\n",
        "    ('svm', svm),\n",
        "])\n",
        "\n",
        "grid_search = GridSearchCV(pipeline, params, n_jobs=-1, verbose=1)\n",
        "\n",
        "print(\"Start fitting...\")\n",
        "t0 = time()\n",
        "grid_search.fit(X_resampled, y_resampled)\n",
        "\n",
        "print(\"done in %0.3fs\" % (time() - t0))"
      ],
      "execution_count": 0,
      "outputs": [
        {
          "output_type": "stream",
          "text": [
            "[(0, 166211), (1, 166211)]\n",
            "Start fitting...\n",
            "Fitting 3 folds for each of 3 candidates, totalling 9 fits\n"
          ],
          "name": "stdout"
        }
      ]
    },
    {
      "metadata": {
        "id": "xo33P-KCZdO1",
        "colab_type": "code",
        "colab": {
          "base_uri": "https://localhost:8080/",
          "height": 551
        },
        "outputId": "d9bddb9c-f5c7-42cc-82ca-5cb22a907c61"
      },
      "cell_type": "code",
      "source": [
        "# print best estimator params\n",
        "best_parameters = grid_search.best_estimator_.get_params()\n",
        "for param_name in sorted(params.keys()):\n",
        "    print(\"\\t%s: %r\" % (param_name, best_parameters[param_name]))\n",
        "# result evalution\n",
        "y_pred = grid_search.best_estimator_.predict(X_test)\n",
        "\n",
        "print(\"F1 dummy stratified  %f\" % roc_auc_score(y_test, y_pred))\n",
        "cnf_matrix = confusion_matrix(y_test, y_pred)\n",
        "plot_confusion_matrix(cnf_matrix,[1,2])"
      ],
      "execution_count": 0,
      "outputs": [
        {
          "output_type": "stream",
          "text": [
            "F1 dummy most_frequent weighted score 0.388760\n",
            "F1 dummy most_frequent macro score 0.265831\n",
            "Confusion matrix, without normalization\n",
            "[[ 62  13  25  27 128]\n",
            " [ 23   6  16  21  85]\n",
            " [ 36  18  68  78 171]\n",
            " [ 46  13  72 154 413]\n",
            " [ 91  33 101 248 865]]\n"
          ],
          "name": "stdout"
        },
        {
          "output_type": "display_data",
          "data": {
            "image/png": "[encoded data removed]",
            "text/plain": [
              "<matplotlib.figure.Figure at 0x7f08db64d160>"
            ]
          },
          "metadata": {
            "tags": []
          }
        }
      ]
    },
    {
      "metadata": {
        "id": "XkWkz58LW4ys",
        "colab_type": "text"
      },
      "cell_type": "markdown",
      "source": [
        "Macro score is 0.265831, weighted score is 0.388760.  \n",
        "This is a little  better then dummy classifier macro score 0.212425 and weighted score 0.323443.  \n",
        "\n"
      ]
    },
    {
      "metadata": {
        "id": "Z--XV23fbI_m",
        "colab_type": "text"
      },
      "cell_type": "markdown",
      "source": [
        "## Artificial Neural Networks estimator\n",
        "\n",
        "In ANN estimator keros framework have been used.  \n",
        "CNN shows good results in DNN for image classifications, LSTM good for timeseries and queued events (like words in sentense) but in our case we have just array of features with unknown nature.  \n",
        "So chosen architecture is relatively shallow set of fully connected layers interlaced by dropout layers.  \n",
        "there are several parameters to play with: number of layers, size of layers, dropout value.  \n",
        "Below  is result of our several tries to make effective architecture."
      ]
    },
    {
      "metadata": {
        "id": "IMvbv40Hpf7-",
        "colab_type": "code",
        "colab": {
          "base_uri": "https://localhost:8080/",
          "height": 34
        },
        "outputId": "96089d36-f3a3-4b17-92fd-e4c115566139"
      },
      "cell_type": "code",
      "source": [
        "# crete X and y\n",
        "X = df.iloc[:,1:-1].copy()\n",
        "y = keras.utils.to_categorical(df['label'] - 1, num_classes=5)\n",
        "\n",
        "# divide to train and test\n",
        "X_train, X_test, y_train, y_test = train_test_split(X, y, test_size=0.1, random_state=3623467829)\n",
        "# preprocess features\n",
        "scaler = StandardScaler().fit(X_train)\n",
        "X_train = scaler.transform(X_train)\n",
        "pca = PCA(n_components=512)\n",
        "pca.fit(X_train)\n",
        "X_train = pca.transform(X_train)\n",
        "\n",
        "# balance train set\n",
        "X_resampled, y_resampled = SMOTE().fit_sample(X_train, np.argmax(y_train, 1))\n",
        "X_train = X_resampled\n",
        "y_train = keras.utils.to_categorical(y_resampled, num_classes=5)\n",
        "from collections import Counter\n",
        "print(sorted(Counter(y_resampled).items()))\n"
      ],
      "execution_count": 0,
      "outputs": [
        {
          "output_type": "stream",
          "text": [
            "[(0, 12181), (1, 12181), (2, 12181), (3, 12181), (4, 12181)]\n"
          ],
          "name": "stdout"
        }
      ]
    },
    {
      "metadata": {
        "id": "UbcS7MyoqYtP",
        "colab_type": "code",
        "colab": {
          "base_uri": "https://localhost:8080/",
          "height": 3434
        },
        "outputId": "7b2bbf0c-911f-4ca4-fbe6-f41051228e8e"
      },
      "cell_type": "code",
      "source": [
        "model = Sequential()\n",
        "model.add(Dense(512, activation='relu', input_dim=512))\n",
        "model.add(Dropout(0.2))\n",
        "model.add(Dense(1024, activation='relu'))\n",
        "model.add(Dropout(0.2))\n",
        "model.add(Dense(1024, activation='relu'))\n",
        "model.add(Dropout(0.2))\n",
        "model.add(Dense(512, activation='relu'))\n",
        "model.add(Dropout(0.2))\n",
        "model.add(Dense(5, activation='softmax'))\n",
        "\n",
        "sgd = SGD(lr=0.01, decay=1e-6, momentum=0.9, nesterov=True)\n",
        "model.compile(loss='categorical_crossentropy',\n",
        "              optimizer=sgd,\n",
        "              metrics=['accuracy'])\n",
        "\n",
        "model.fit(X_train, y_train,\n",
        "          epochs=100,\n",
        "          batch_size=128)\n",
        "\n"
      ],
      "execution_count": 0,
      "outputs": [
        {
          "output_type": "stream",
          "text": [
            "Epoch 1/100\n",
            "60905/60905 [==============================] - 34s 562us/step - loss: 1.5242 - acc: 0.3137\n",
            "Epoch 2/100\n",
            "60905/60905 [==============================] - 32s 528us/step - loss: 1.4632 - acc: 0.3548\n",
            "Epoch 3/100\n",
            "60905/60905 [==============================] - 32s 531us/step - loss: 1.4081 - acc: 0.3930\n",
            "Epoch 4/100\n",
            "60905/60905 [==============================] - 32s 533us/step - loss: 1.3404 - acc: 0.4326\n",
            "Epoch 5/100\n",
            "60905/60905 [==============================] - 33s 537us/step - loss: 1.2728 - acc: 0.4654\n",
            "Epoch 6/100\n",
            "60905/60905 [==============================] - 33s 537us/step - loss: 1.2056 - acc: 0.4990\n",
            "Epoch 7/100\n",
            "60905/60905 [==============================] - 33s 538us/step - loss: 1.1464 - acc: 0.5230\n",
            "Epoch 8/100\n",
            "60905/60905 [==============================] - 32s 533us/step - loss: 1.0856 - acc: 0.5491\n",
            "Epoch 9/100\n",
            "60905/60905 [==============================] - 32s 523us/step - loss: 1.0366 - acc: 0.5707\n",
            "Epoch 10/100\n",
            "60905/60905 [==============================] - 32s 532us/step - loss: 0.9832 - acc: 0.5913\n",
            "Epoch 11/100\n",
            "60905/60905 [==============================] - 32s 528us/step - loss: 0.9392 - acc: 0.6091\n",
            "Epoch 12/100\n",
            "60905/60905 [==============================] - 32s 529us/step - loss: 0.8974 - acc: 0.6276\n",
            "Epoch 13/100\n",
            "60905/60905 [==============================] - 32s 525us/step - loss: 0.8600 - acc: 0.6440\n",
            "Epoch 14/100\n",
            "60905/60905 [==============================] - 32s 533us/step - loss: 0.8261 - acc: 0.6566\n",
            "Epoch 15/100\n",
            "60905/60905 [==============================] - 32s 523us/step - loss: 0.7925 - acc: 0.6726\n",
            "Epoch 16/100\n",
            "60905/60905 [==============================] - 32s 520us/step - loss: 0.7566 - acc: 0.6890\n",
            "Epoch 17/100\n",
            "60905/60905 [==============================] - 31s 510us/step - loss: 0.7277 - acc: 0.6993\n",
            "Epoch 18/100\n",
            "60905/60905 [==============================] - 31s 514us/step - loss: 0.7057 - acc: 0.7086\n",
            "Epoch 19/100\n",
            "60905/60905 [==============================] - 32s 518us/step - loss: 0.6733 - acc: 0.7218\n",
            "Epoch 20/100\n",
            "60905/60905 [==============================] - 32s 519us/step - loss: 0.6488 - acc: 0.7360\n",
            "Epoch 21/100\n",
            "60905/60905 [==============================] - 31s 510us/step - loss: 0.6290 - acc: 0.7425\n",
            "Epoch 22/100\n",
            "60905/60905 [==============================] - 31s 516us/step - loss: 0.6035 - acc: 0.7534\n",
            "Epoch 23/100\n",
            "60905/60905 [==============================] - 31s 516us/step - loss: 0.5904 - acc: 0.7580\n",
            "Epoch 24/100\n",
            "60905/60905 [==============================] - 32s 520us/step - loss: 0.5639 - acc: 0.7708\n",
            "Epoch 25/100\n",
            "60905/60905 [==============================] - 31s 511us/step - loss: 0.5469 - acc: 0.7769\n",
            "Epoch 26/100\n",
            "60905/60905 [==============================] - 32s 518us/step - loss: 0.5271 - acc: 0.7855\n",
            "Epoch 27/100\n",
            "60905/60905 [==============================] - 32s 518us/step - loss: 0.5106 - acc: 0.7935\n",
            "Epoch 28/100\n",
            "60905/60905 [==============================] - 32s 517us/step - loss: 0.5005 - acc: 0.8001\n",
            "Epoch 29/100\n",
            "60905/60905 [==============================] - 31s 515us/step - loss: 0.4784 - acc: 0.8074\n",
            "Epoch 30/100\n",
            "60905/60905 [==============================] - 32s 520us/step - loss: 0.4622 - acc: 0.8151\n",
            "Epoch 31/100\n",
            "60905/60905 [==============================] - 32s 522us/step - loss: 0.4492 - acc: 0.8198\n",
            "Epoch 32/100\n",
            "60905/60905 [==============================] - 32s 518us/step - loss: 0.4345 - acc: 0.8256\n",
            "Epoch 33/100\n",
            "60905/60905 [==============================] - 31s 513us/step - loss: 0.4261 - acc: 0.8311\n",
            "Epoch 34/100\n",
            "60905/60905 [==============================] - 31s 516us/step - loss: 0.4124 - acc: 0.8374\n",
            "Epoch 35/100\n",
            "60905/60905 [==============================] - 32s 520us/step - loss: 0.4031 - acc: 0.8407\n",
            "Epoch 36/100\n",
            "60905/60905 [==============================] - 31s 515us/step - loss: 0.3899 - acc: 0.8465\n",
            "Epoch 37/100\n",
            "60905/60905 [==============================] - 32s 519us/step - loss: 0.3796 - acc: 0.8493\n",
            "Epoch 38/100\n",
            "60905/60905 [==============================] - 32s 519us/step - loss: 0.3698 - acc: 0.8555\n",
            "Epoch 39/100\n",
            "60905/60905 [==============================] - 32s 522us/step - loss: 0.3593 - acc: 0.8586\n",
            "Epoch 40/100\n",
            "60905/60905 [==============================] - 32s 518us/step - loss: 0.3518 - acc: 0.8642\n",
            "Epoch 41/100\n",
            "60905/60905 [==============================] - 32s 522us/step - loss: 0.3327 - acc: 0.8705\n",
            "Epoch 42/100\n",
            "60905/60905 [==============================] - 31s 516us/step - loss: 0.3272 - acc: 0.8720\n",
            "Epoch 43/100\n",
            "60905/60905 [==============================] - 32s 523us/step - loss: 0.3270 - acc: 0.8725\n",
            "Epoch 44/100\n",
            "60905/60905 [==============================] - 31s 515us/step - loss: 0.3123 - acc: 0.8785\n",
            "Epoch 45/100\n",
            "60905/60905 [==============================] - 32s 520us/step - loss: 0.3037 - acc: 0.8836\n",
            "Epoch 46/100\n",
            "60905/60905 [==============================] - 32s 519us/step - loss: 0.2998 - acc: 0.8843\n",
            "Epoch 47/100\n",
            "60905/60905 [==============================] - 32s 525us/step - loss: 0.2904 - acc: 0.8882\n",
            "Epoch 48/100\n",
            "60905/60905 [==============================] - 31s 515us/step - loss: 0.2825 - acc: 0.8925\n",
            "Epoch 49/100\n",
            "60905/60905 [==============================] - 32s 523us/step - loss: 0.2739 - acc: 0.8960\n",
            "Epoch 50/100\n",
            "60905/60905 [==============================] - 31s 517us/step - loss: 0.2684 - acc: 0.8978\n",
            "Epoch 51/100\n",
            "60905/60905 [==============================] - 32s 525us/step - loss: 0.2644 - acc: 0.8996\n",
            "Epoch 52/100\n",
            "60905/60905 [==============================] - 32s 520us/step - loss: 0.2616 - acc: 0.8990\n",
            "Epoch 53/100\n",
            "60905/60905 [==============================] - 32s 521us/step - loss: 0.2494 - acc: 0.9043\n",
            "Epoch 54/100\n",
            "60905/60905 [==============================] - 31s 516us/step - loss: 0.2487 - acc: 0.9050\n",
            "Epoch 55/100\n",
            "60905/60905 [==============================] - 32s 523us/step - loss: 0.2405 - acc: 0.9087\n",
            "Epoch 56/100\n",
            "60905/60905 [==============================] - 32s 519us/step - loss: 0.2355 - acc: 0.9100\n",
            "Epoch 57/100\n",
            "60905/60905 [==============================] - 32s 519us/step - loss: 0.2267 - acc: 0.9152\n",
            "Epoch 58/100\n",
            "60905/60905 [==============================] - 32s 518us/step - loss: 0.2291 - acc: 0.9124\n",
            "Epoch 59/100\n",
            "60905/60905 [==============================] - 32s 522us/step - loss: 0.2249 - acc: 0.9145\n",
            "Epoch 60/100\n",
            "60905/60905 [==============================] - 32s 520us/step - loss: 0.2185 - acc: 0.9181\n",
            "Epoch 61/100\n",
            "60905/60905 [==============================] - 32s 520us/step - loss: 0.2138 - acc: 0.9183\n",
            "Epoch 62/100\n",
            "60905/60905 [==============================] - 31s 517us/step - loss: 0.2114 - acc: 0.9209\n",
            "Epoch 63/100\n",
            "60905/60905 [==============================] - 32s 524us/step - loss: 0.2061 - acc: 0.9220\n",
            "Epoch 64/100\n",
            "60905/60905 [==============================] - 32s 524us/step - loss: 0.2059 - acc: 0.9231\n",
            "Epoch 65/100\n",
            "60905/60905 [==============================] - 32s 524us/step - loss: 0.1957 - acc: 0.9270\n",
            "Epoch 66/100\n",
            "60905/60905 [==============================] - 32s 520us/step - loss: 0.1949 - acc: 0.9277\n",
            "Epoch 67/100\n",
            "60905/60905 [==============================] - 32s 525us/step - loss: 0.1884 - acc: 0.9295\n",
            "Epoch 68/100\n",
            "60905/60905 [==============================] - 32s 522us/step - loss: 0.1891 - acc: 0.9293\n",
            "Epoch 69/100\n",
            "60905/60905 [==============================] - 32s 523us/step - loss: 0.1841 - acc: 0.9320\n",
            "Epoch 70/100\n",
            "60905/60905 [==============================] - 32s 519us/step - loss: 0.1825 - acc: 0.9323\n",
            "Epoch 71/100\n",
            "60905/60905 [==============================] - 32s 523us/step - loss: 0.1801 - acc: 0.9338\n",
            "Epoch 72/100\n",
            "60905/60905 [==============================] - 32s 526us/step - loss: 0.1698 - acc: 0.9368\n",
            "Epoch 73/100\n",
            "60905/60905 [==============================] - 32s 523us/step - loss: 0.1717 - acc: 0.9371\n",
            "Epoch 74/100\n",
            "60905/60905 [==============================] - 32s 522us/step - loss: 0.1731 - acc: 0.9346\n",
            "Epoch 75/100\n",
            "60905/60905 [==============================] - 32s 526us/step - loss: 0.1654 - acc: 0.9381\n",
            "Epoch 76/100\n",
            "60905/60905 [==============================] - 32s 527us/step - loss: 0.1689 - acc: 0.9372\n",
            "Epoch 77/100\n",
            "60905/60905 [==============================] - 32s 522us/step - loss: 0.1583 - acc: 0.9407\n",
            "Epoch 78/100\n",
            "60905/60905 [==============================] - 32s 525us/step - loss: 0.1622 - acc: 0.9401\n",
            "Epoch 79/100\n",
            "60905/60905 [==============================] - 32s 522us/step - loss: 0.1552 - acc: 0.9434\n",
            "Epoch 80/100\n",
            "60905/60905 [==============================] - 32s 523us/step - loss: 0.1508 - acc: 0.9448\n",
            "Epoch 81/100\n",
            "60905/60905 [==============================] - 32s 522us/step - loss: 0.1490 - acc: 0.9444\n",
            "Epoch 82/100\n",
            "60905/60905 [==============================] - 32s 522us/step - loss: 0.1494 - acc: 0.9454\n",
            "Epoch 83/100\n",
            "60905/60905 [==============================] - 32s 521us/step - loss: 0.1499 - acc: 0.9466\n",
            "Epoch 84/100\n",
            "60905/60905 [==============================] - 32s 526us/step - loss: 0.1436 - acc: 0.9481\n",
            "Epoch 85/100\n",
            "60905/60905 [==============================] - 32s 523us/step - loss: 0.1448 - acc: 0.9477\n",
            "Epoch 86/100\n",
            "60905/60905 [==============================] - 32s 525us/step - loss: 0.1383 - acc: 0.9495\n",
            "Epoch 87/100\n",
            "60905/60905 [==============================] - 32s 526us/step - loss: 0.1417 - acc: 0.9477\n",
            "Epoch 88/100\n",
            "60905/60905 [==============================] - 32s 527us/step - loss: 0.1395 - acc: 0.9489\n",
            "Epoch 89/100\n",
            "60905/60905 [==============================] - 32s 526us/step - loss: 0.1333 - acc: 0.9521\n",
            "Epoch 90/100\n",
            "60905/60905 [==============================] - 32s 528us/step - loss: 0.1340 - acc: 0.9518\n",
            "Epoch 91/100\n",
            "60905/60905 [==============================] - 32s 526us/step - loss: 0.1309 - acc: 0.9532\n",
            "Epoch 92/100\n",
            "60905/60905 [==============================] - 32s 523us/step - loss: 0.1278 - acc: 0.9530\n",
            "Epoch 93/100\n",
            "60905/60905 [==============================] - 32s 528us/step - loss: 0.1230 - acc: 0.9550\n",
            "Epoch 94/100\n",
            "60905/60905 [==============================] - 32s 522us/step - loss: 0.1225 - acc: 0.9557\n",
            "Epoch 95/100\n",
            "60905/60905 [==============================] - 32s 525us/step - loss: 0.1295 - acc: 0.9533\n",
            "Epoch 96/100\n",
            "60905/60905 [==============================] - 32s 525us/step - loss: 0.1243 - acc: 0.9542\n",
            "Epoch 97/100\n",
            "60905/60905 [==============================] - 32s 532us/step - loss: 0.1245 - acc: 0.9550\n",
            "Epoch 98/100\n",
            "60905/60905 [==============================] - 32s 522us/step - loss: 0.1201 - acc: 0.9573\n",
            "Epoch 99/100\n",
            "60905/60905 [==============================] - 32s 525us/step - loss: 0.1157 - acc: 0.9570\n",
            "Epoch 100/100\n",
            "60905/60905 [==============================] - 32s 518us/step - loss: 0.1151 - acc: 0.9585\n"
          ],
          "name": "stdout"
        },
        {
          "output_type": "execute_result",
          "data": {
            "text/plain": [
              "<keras.callbacks.History at 0x7f08a1a385c0>"
            ]
          },
          "metadata": {
            "tags": []
          },
          "execution_count": 72
        }
      ]
    },
    {
      "metadata": {
        "id": "SBpMsnsJx_gU",
        "colab_type": "code",
        "colab": {
          "base_uri": "https://localhost:8080/",
          "height": 85
        },
        "outputId": "35d59d0c-1568-453d-b1f5-809122f893c3"
      },
      "cell_type": "code",
      "source": [
        "# make prediction on test set\n",
        "X_test_2 = pca.transform(scaler.transform(X_test))\n",
        "\n",
        "y_pred = model.predict(X_test_2)\n",
        "# calculate f1 weighted score\n",
        "score = model.evaluate(X_train, y_train, batch_size=128)\n",
        "print(\"Score = %f\" % score[1])\n",
        "print(\"F1 weighted score %f\" % f1_score(np.argmax(y_test, 1), np.argmax(y_pred, 1), average='weighted'))\n",
        "print(\"F1 macro score %f\" % f1_score(np.argmax(y_test, 1), np.argmax(y_pred, 1), average='macro'))"
      ],
      "execution_count": 0,
      "outputs": [
        {
          "output_type": "stream",
          "text": [
            "60905/60905 [==============================] - 8s 130us/step\n",
            "Score = 0.996848\n",
            "F1 weighted score 0.375937\n",
            "F1 macro score 0.278116\n"
          ],
          "name": "stdout"
        }
      ]
    },
    {
      "metadata": {
        "id": "iOW5rFqaZgfT",
        "colab_type": "text"
      },
      "cell_type": "markdown",
      "source": [
        "Macro score is 0.278116, weighted score is 0.375937.  \n",
        "This is a little  better then dummy classifier macro score 0.212425 and weighted score 0.323443.  \n",
        "\n"
      ]
    },
    {
      "metadata": {
        "id": "cvJ28b36DWK-",
        "colab_type": "code",
        "colab": {
          "base_uri": "https://localhost:8080/",
          "height": 517
        },
        "outputId": "853ea643-8f1b-4980-b96b-69a37996fbc6"
      },
      "cell_type": "code",
      "source": [
        "cnf_matrix = confusion_matrix(np.argmax(y_test, 1), np.argmax(y_pred, 1))\n",
        "plot_confusion_matrix(cnf_matrix,[1,2,3,4,5])"
      ],
      "execution_count": 0,
      "outputs": [
        {
          "output_type": "stream",
          "text": [
            "Confusion matrix, without normalization\n",
            "[[ 73  25  38  54  65]\n",
            " [ 19  12  30  44  46]\n",
            " [ 32  19  80 107 133]\n",
            " [ 46  28 113 229 282]\n",
            " [ 65  49 196 385 643]]\n"
          ],
          "name": "stdout"
        },
        {
          "output_type": "display_data",
          "data": {
            "image/png": "[encoded data removed]",
            "text/plain": [
              "<matplotlib.figure.Figure at 0x7f08a1401cf8>"
            ]
          },
          "metadata": {
            "tags": []
          }
        }
      ]
    },
    {
      "metadata": {
        "id": "wk6pBPLrSzFu",
        "colab_type": "text"
      },
      "cell_type": "markdown",
      "source": [
        "Stacking binary classifiers with shallow multiclass classifier\n",
        "==============================================="
      ]
    },
    {
      "metadata": {
        "id": "BsiMGrXBEoHr",
        "colab_type": "code",
        "colab": {
          "base_uri": "https://localhost:8080/",
          "height": 5154
        },
        "outputId": "083bd8a3-d86e-4dc8-c206-964e4d77677e"
      },
      "cell_type": "code",
      "source": [
        "models = []\n",
        "train_data = np.empty_like(y_train)\n",
        "for i in range(0,5):  \n",
        "  bmodel = Sequential()\n",
        "  bmodel.add(Dense(512, activation='relu', input_dim=512))\n",
        "  bmodel.add(Dropout(0.2))\n",
        "  bmodel.add(Dense(1024, activation='relu'))\n",
        "  bmodel.add(Dropout(0.2))\n",
        "  bmodel.add(Dense(1024, activation='relu'))\n",
        "  bmodel.add(Dropout(0.2))\n",
        "  bmodel.add(Dense(512, activation='relu'))\n",
        "  bmodel.add(Dropout(0.2))\n",
        "  bmodel.add(Dense(1, activation='sigmoid'))\n",
        "  sgd = SGD(lr=0.01, decay=1e-6, momentum=0.9, nesterov=True)\n",
        "  bmodel.compile(loss='binary_crossentropy',\n",
        "                optimizer=sgd,\n",
        "                metrics=['accuracy'])\n",
        "  bmodel.fit(X_train, (np.argmax(y_train, 1)==i)+0,\n",
        "            epochs=30,\n",
        "            batch_size=128)\n",
        "  models.append(bmodel)\n",
        "  r = bmodel.predict(X_train)\n",
        "  train_data[:,i] = r.reshape(1, len(r))\n",
        "\n"
      ],
      "execution_count": 0,
      "outputs": [
        {
          "output_type": "stream",
          "text": [
            "WARNING:tensorflow:Variable *= will be deprecated. Use `var.assign(var * other)` if you want assignment to the variable value or `x = x * y` if you want a new python Tensor object.\n",
            "Epoch 1/30\n",
            "60905/60905 [==============================] - 31s 513us/step - loss: 0.4528 - acc: 0.8035\n",
            "Epoch 2/30\n",
            "60905/60905 [==============================] - 31s 507us/step - loss: 0.4185 - acc: 0.8148\n",
            "Epoch 3/30\n",
            "60905/60905 [==============================] - 31s 506us/step - loss: 0.3923 - acc: 0.8234\n",
            "Epoch 4/30\n",
            "60905/60905 [==============================] - 31s 509us/step - loss: 0.3668 - acc: 0.8341\n",
            "Epoch 5/30\n",
            "60905/60905 [==============================] - 31s 508us/step - loss: 0.3384 - acc: 0.8485\n",
            "Epoch 6/30\n",
            "60905/60905 [==============================] - 31s 507us/step - loss: 0.3086 - acc: 0.8612\n",
            "Epoch 7/30\n",
            "60905/60905 [==============================] - 31s 505us/step - loss: 0.2857 - acc: 0.8739\n",
            "Epoch 8/30\n",
            "60905/60905 [==============================] - 31s 503us/step - loss: 0.2617 - acc: 0.8856\n",
            "Epoch 9/30\n",
            "60905/60905 [==============================] - 30s 500us/step - loss: 0.2434 - acc: 0.8942\n",
            "Epoch 10/30\n",
            "60905/60905 [==============================] - 30s 493us/step - loss: 0.2208 - acc: 0.9041\n",
            "Epoch 11/30\n",
            "60905/60905 [==============================] - 31s 506us/step - loss: 0.2067 - acc: 0.9109\n",
            "Epoch 12/30\n",
            "60905/60905 [==============================] - 30s 495us/step - loss: 0.1909 - acc: 0.9181\n",
            "Epoch 13/30\n",
            "60905/60905 [==============================] - 30s 498us/step - loss: 0.1800 - acc: 0.9231\n",
            "Epoch 14/30\n",
            "60905/60905 [==============================] - 30s 493us/step - loss: 0.1700 - acc: 0.9294\n",
            "Epoch 15/30\n",
            "60905/60905 [==============================] - 30s 500us/step - loss: 0.1610 - acc: 0.9330\n",
            "Epoch 16/30\n",
            "60905/60905 [==============================] - 30s 495us/step - loss: 0.1505 - acc: 0.9365\n",
            "Epoch 17/30\n",
            "60905/60905 [==============================] - 31s 502us/step - loss: 0.1396 - acc: 0.9416\n",
            "Epoch 18/30\n",
            "60905/60905 [==============================] - 30s 497us/step - loss: 0.1314 - acc: 0.9448\n",
            "Epoch 19/30\n",
            "60905/60905 [==============================] - 31s 501us/step - loss: 0.1252 - acc: 0.9474\n",
            "Epoch 20/30\n",
            "60905/60905 [==============================] - 30s 496us/step - loss: 0.1197 - acc: 0.9493\n",
            "Epoch 21/30\n",
            "60905/60905 [==============================] - 30s 498us/step - loss: 0.1127 - acc: 0.9538\n",
            "Epoch 22/30\n",
            "60905/60905 [==============================] - 31s 502us/step - loss: 0.1076 - acc: 0.9554\n",
            "Epoch 23/30\n",
            "60905/60905 [==============================] - 30s 499us/step - loss: 0.1041 - acc: 0.9578\n",
            "Epoch 24/30\n",
            "60905/60905 [==============================] - 30s 500us/step - loss: 0.0976 - acc: 0.9603\n",
            "Epoch 25/30\n",
            "60905/60905 [==============================] - 30s 493us/step - loss: 0.0922 - acc: 0.9618\n",
            "Epoch 26/30\n",
            "60905/60905 [==============================] - 31s 505us/step - loss: 0.0899 - acc: 0.9642\n",
            "Epoch 27/30\n",
            "60905/60905 [==============================] - 30s 494us/step - loss: 0.0889 - acc: 0.9641\n",
            "Epoch 28/30\n",
            "60905/60905 [==============================] - 30s 498us/step - loss: 0.0836 - acc: 0.9668\n",
            "Epoch 29/30\n",
            "60905/60905 [==============================] - 30s 498us/step - loss: 0.0787 - acc: 0.9685\n",
            "Epoch 30/30\n",
            "60905/60905 [==============================] - 30s 500us/step - loss: 0.0774 - acc: 0.9691\n",
            "Epoch 1/30\n",
            "60905/60905 [==============================] - 31s 511us/step - loss: 0.4831 - acc: 0.7979\n",
            "Epoch 2/30\n",
            "60905/60905 [==============================] - 31s 501us/step - loss: 0.4463 - acc: 0.8056\n",
            "Epoch 3/30\n",
            "60905/60905 [==============================] - 31s 501us/step - loss: 0.4084 - acc: 0.8199\n",
            "Epoch 4/30\n",
            "60905/60905 [==============================] - 30s 501us/step - loss: 0.3594 - acc: 0.8429\n",
            "Epoch 5/30\n",
            "60905/60905 [==============================] - 31s 502us/step - loss: 0.3167 - acc: 0.8645\n",
            "Epoch 6/30\n",
            "60905/60905 [==============================] - 31s 502us/step - loss: 0.2753 - acc: 0.8845\n",
            "Epoch 7/30\n",
            "60905/60905 [==============================] - 30s 500us/step - loss: 0.2374 - acc: 0.9009\n",
            "Epoch 8/30\n",
            "60905/60905 [==============================] - 31s 504us/step - loss: 0.2106 - acc: 0.9147\n",
            "Epoch 9/30\n",
            "60905/60905 [==============================] - 30s 499us/step - loss: 0.1829 - acc: 0.9255\n",
            "Epoch 10/30\n",
            "60905/60905 [==============================] - 30s 500us/step - loss: 0.1649 - acc: 0.9346\n",
            "Epoch 11/30\n",
            "60905/60905 [==============================] - 31s 502us/step - loss: 0.1478 - acc: 0.9414\n",
            "Epoch 12/30\n",
            "60905/60905 [==============================] - 31s 516us/step - loss: 0.1321 - acc: 0.9477\n",
            "Epoch 13/30\n",
            "60905/60905 [==============================] - 30s 500us/step - loss: 0.1200 - acc: 0.9539\n",
            "Epoch 14/30\n",
            "60905/60905 [==============================] - 30s 500us/step - loss: 0.1116 - acc: 0.9558\n",
            "Epoch 15/30\n",
            "60905/60905 [==============================] - 30s 497us/step - loss: 0.1002 - acc: 0.9617\n",
            "Epoch 16/30\n",
            "60905/60905 [==============================] - 30s 499us/step - loss: 0.0953 - acc: 0.9629\n",
            "Epoch 17/30\n",
            "60905/60905 [==============================] - 30s 497us/step - loss: 0.0846 - acc: 0.9672\n",
            "Epoch 18/30\n",
            "60905/60905 [==============================] - 30s 496us/step - loss: 0.0789 - acc: 0.9697\n",
            "Epoch 19/30\n",
            "60905/60905 [==============================] - 30s 500us/step - loss: 0.0759 - acc: 0.9710\n",
            "Epoch 20/30\n",
            "60905/60905 [==============================] - 30s 496us/step - loss: 0.0673 - acc: 0.9738\n",
            "Epoch 21/30\n",
            "60905/60905 [==============================] - 30s 500us/step - loss: 0.0662 - acc: 0.9753\n",
            "Epoch 22/30\n",
            "60905/60905 [==============================] - 30s 495us/step - loss: 0.0620 - acc: 0.9767\n",
            "Epoch 23/30\n",
            "60905/60905 [==============================] - 31s 501us/step - loss: 0.0574 - acc: 0.9784\n",
            "Epoch 24/30\n",
            "60905/60905 [==============================] - 30s 496us/step - loss: 0.0529 - acc: 0.9801\n",
            "Epoch 25/30\n",
            "60905/60905 [==============================] - 30s 499us/step - loss: 0.0500 - acc: 0.9811\n",
            "Epoch 26/30\n",
            "60905/60905 [==============================] - 30s 499us/step - loss: 0.0479 - acc: 0.9819\n",
            "Epoch 27/30\n",
            "60905/60905 [==============================] - 31s 502us/step - loss: 0.0448 - acc: 0.9832\n",
            "Epoch 28/30\n",
            "60905/60905 [==============================] - 30s 499us/step - loss: 0.0426 - acc: 0.9838\n",
            "Epoch 29/30\n",
            "60905/60905 [==============================] - 30s 497us/step - loss: 0.0427 - acc: 0.9835\n",
            "Epoch 30/30\n",
            "60905/60905 [==============================] - 30s 500us/step - loss: 0.0386 - acc: 0.9851\n",
            "Epoch 1/30\n",
            "60905/60905 [==============================] - 31s 503us/step - loss: 0.4993 - acc: 0.7990\n",
            "Epoch 2/30\n",
            "60905/60905 [==============================] - 30s 494us/step - loss: 0.4834 - acc: 0.7999\n",
            "Epoch 3/30\n",
            "60905/60905 [==============================] - 30s 492us/step - loss: 0.4740 - acc: 0.8004\n",
            "Epoch 4/30\n",
            "60905/60905 [==============================] - 30s 489us/step - loss: 0.4595 - acc: 0.8021\n",
            "Epoch 5/30\n",
            "60905/60905 [==============================] - 30s 497us/step - loss: 0.4450 - acc: 0.8070\n",
            "Epoch 6/30\n",
            "60905/60905 [==============================] - 30s 490us/step - loss: 0.4280 - acc: 0.8126\n",
            "Epoch 7/30\n",
            "60905/60905 [==============================] - 30s 496us/step - loss: 0.4096 - acc: 0.8207\n",
            "Epoch 8/30\n",
            "60905/60905 [==============================] - 30s 489us/step - loss: 0.3872 - acc: 0.8323\n",
            "Epoch 9/30\n",
            "60905/60905 [==============================] - 30s 495us/step - loss: 0.3682 - acc: 0.8415\n",
            "Epoch 10/30\n",
            "60905/60905 [==============================] - 30s 493us/step - loss: 0.3502 - acc: 0.8494\n",
            "Epoch 11/30\n",
            "60905/60905 [==============================] - 30s 489us/step - loss: 0.3295 - acc: 0.8585\n",
            "Epoch 12/30\n",
            "60905/60905 [==============================] - 30s 493us/step - loss: 0.3146 - acc: 0.8675\n",
            "Epoch 13/30\n",
            "60905/60905 [==============================] - 30s 492us/step - loss: 0.2966 - acc: 0.8762\n",
            "Epoch 14/30\n",
            "60905/60905 [==============================] - 30s 495us/step - loss: 0.2805 - acc: 0.8835\n",
            "Epoch 15/30\n",
            "60905/60905 [==============================] - 30s 498us/step - loss: 0.2646 - acc: 0.8916\n",
            "Epoch 16/30\n",
            "60905/60905 [==============================] - 31s 501us/step - loss: 0.2527 - acc: 0.8962\n",
            "Epoch 17/30\n",
            "60905/60905 [==============================] - 30s 491us/step - loss: 0.2393 - acc: 0.9023\n",
            "Epoch 18/30\n",
            "60905/60905 [==============================] - 30s 491us/step - loss: 0.2257 - acc: 0.9085\n",
            "Epoch 19/30\n",
            "60905/60905 [==============================] - 30s 491us/step - loss: 0.2157 - acc: 0.9127\n",
            "Epoch 20/30\n",
            "60905/60905 [==============================] - 30s 489us/step - loss: 0.2042 - acc: 0.9177\n",
            "Epoch 21/30\n",
            "60905/60905 [==============================] - 30s 495us/step - loss: 0.1943 - acc: 0.9216\n",
            "Epoch 22/30\n",
            "60905/60905 [==============================] - 30s 489us/step - loss: 0.1819 - acc: 0.9272\n",
            "Epoch 23/30\n",
            "60905/60905 [==============================] - 30s 495us/step - loss: 0.1784 - acc: 0.9287\n",
            "Epoch 24/30\n",
            "60905/60905 [==============================] - 30s 489us/step - loss: 0.1694 - acc: 0.9320\n",
            "Epoch 25/30\n",
            "60905/60905 [==============================] - 30s 492us/step - loss: 0.1622 - acc: 0.9351\n",
            "Epoch 26/30\n",
            "60905/60905 [==============================] - 30s 490us/step - loss: 0.1518 - acc: 0.9398\n",
            "Epoch 27/30\n",
            "60905/60905 [==============================] - 30s 492us/step - loss: 0.1486 - acc: 0.9415\n",
            "Epoch 28/30\n",
            "60905/60905 [==============================] - 30s 492us/step - loss: 0.1409 - acc: 0.9447\n",
            "Epoch 29/30\n",
            "60905/60905 [==============================] - 30s 490us/step - loss: 0.1346 - acc: 0.9480\n",
            "Epoch 30/30\n",
            "60905/60905 [==============================] - 30s 495us/step - loss: 0.1306 - acc: 0.9482\n",
            "Epoch 1/30\n",
            "60905/60905 [==============================] - 30s 497us/step - loss: 0.4888 - acc: 0.7988\n",
            "Epoch 2/30\n",
            "60905/60905 [==============================] - 30s 487us/step - loss: 0.4759 - acc: 0.7996\n",
            "Epoch 3/30\n",
            "60905/60905 [==============================] - 30s 488us/step - loss: 0.4701 - acc: 0.7998\n",
            "Epoch 4/30\n",
            "60905/60905 [==============================] - 30s 493us/step - loss: 0.4646 - acc: 0.8002\n",
            "Epoch 5/30\n",
            "60905/60905 [==============================] - 31s 502us/step - loss: 0.4584 - acc: 0.7998\n",
            "Epoch 6/30\n",
            "60905/60905 [==============================] - 30s 497us/step - loss: 0.4520 - acc: 0.8008\n",
            "Epoch 7/30\n",
            "60905/60905 [==============================] - 30s 491us/step - loss: 0.4457 - acc: 0.8015\n",
            "Epoch 8/30\n",
            "60905/60905 [==============================] - 30s 499us/step - loss: 0.4382 - acc: 0.8024\n",
            "Epoch 9/30\n",
            "60905/60905 [==============================] - 30s 492us/step - loss: 0.4290 - acc: 0.8056\n",
            "Epoch 10/30\n",
            "60905/60905 [==============================] - 30s 497us/step - loss: 0.4213 - acc: 0.8095\n",
            "Epoch 11/30\n",
            "60905/60905 [==============================] - 30s 489us/step - loss: 0.4114 - acc: 0.8130\n",
            "Epoch 12/30\n",
            "60905/60905 [==============================] - 30s 496us/step - loss: 0.4010 - acc: 0.8166\n",
            "Epoch 13/30\n",
            "60905/60905 [==============================] - 30s 491us/step - loss: 0.3915 - acc: 0.8227\n",
            "Epoch 14/30\n",
            "60905/60905 [==============================] - 30s 493us/step - loss: 0.3815 - acc: 0.8285\n",
            "Epoch 15/30\n",
            "60905/60905 [==============================] - 30s 491us/step - loss: 0.3720 - acc: 0.8329\n",
            "Epoch 16/30\n",
            "60905/60905 [==============================] - 31s 504us/step - loss: 0.3617 - acc: 0.8378\n",
            "Epoch 17/30\n",
            "60905/60905 [==============================] - 30s 497us/step - loss: 0.3526 - acc: 0.8433\n",
            "Epoch 18/30\n",
            "60905/60905 [==============================] - 30s 498us/step - loss: 0.3415 - acc: 0.8501\n",
            "Epoch 19/30\n",
            "60905/60905 [==============================] - 31s 505us/step - loss: 0.3327 - acc: 0.8540\n",
            "Epoch 20/30\n",
            "60905/60905 [==============================] - 31s 504us/step - loss: 0.3240 - acc: 0.8576\n",
            "Epoch 21/30\n",
            "60905/60905 [==============================] - 30s 498us/step - loss: 0.3113 - acc: 0.8634\n",
            "Epoch 22/30\n",
            "60905/60905 [==============================] - 30s 498us/step - loss: 0.3055 - acc: 0.8666\n",
            "Epoch 23/30\n",
            "60905/60905 [==============================] - 31s 506us/step - loss: 0.2972 - acc: 0.8703\n",
            "Epoch 24/30\n",
            "60905/60905 [==============================] - 31s 503us/step - loss: 0.2868 - acc: 0.8762\n",
            "Epoch 25/30\n",
            "60905/60905 [==============================] - 31s 502us/step - loss: 0.2802 - acc: 0.8788\n",
            "Epoch 26/30\n",
            "60905/60905 [==============================] - 31s 502us/step - loss: 0.2718 - acc: 0.8840\n",
            "Epoch 27/30\n",
            "60905/60905 [==============================] - 31s 510us/step - loss: 0.2631 - acc: 0.8878\n",
            "Epoch 28/30\n",
            "60905/60905 [==============================] - 31s 510us/step - loss: 0.2549 - acc: 0.8921\n",
            "Epoch 29/30\n",
            "60905/60905 [==============================] - 31s 501us/step - loss: 0.2515 - acc: 0.8935\n",
            "Epoch 30/30\n",
            "60905/60905 [==============================] - 31s 514us/step - loss: 0.2402 - acc: 0.8974\n",
            "Epoch 1/30\n",
            "60905/60905 [==============================] - 32s 520us/step - loss: 0.4872 - acc: 0.7993\n",
            "Epoch 2/30\n",
            "60905/60905 [==============================] - 32s 521us/step - loss: 0.4714 - acc: 0.8010\n",
            "Epoch 3/30\n",
            "60905/60905 [==============================] - 31s 510us/step - loss: 0.4661 - acc: 0.8014\n",
            "Epoch 4/30\n",
            "60905/60905 [==============================] - 31s 512us/step - loss: 0.4612 - acc: 0.8022\n",
            "Epoch 5/30\n",
            "60905/60905 [==============================] - 31s 509us/step - loss: 0.4553 - acc: 0.8038\n",
            "Epoch 6/30\n",
            "60905/60905 [==============================] - 31s 517us/step - loss: 0.4504 - acc: 0.8041\n",
            "Epoch 7/30\n",
            "60905/60905 [==============================] - 31s 509us/step - loss: 0.4444 - acc: 0.8058\n",
            "Epoch 8/30\n",
            "60905/60905 [==============================] - 31s 510us/step - loss: 0.4396 - acc: 0.8090\n",
            "Epoch 9/30\n",
            "60905/60905 [==============================] - 31s 514us/step - loss: 0.4331 - acc: 0.8107\n",
            "Epoch 10/30\n",
            "60905/60905 [==============================] - 31s 514us/step - loss: 0.4273 - acc: 0.8131\n",
            "Epoch 11/30\n",
            "60905/60905 [==============================] - 31s 512us/step - loss: 0.4200 - acc: 0.8145\n",
            "Epoch 12/30\n",
            "60905/60905 [==============================] - 31s 502us/step - loss: 0.4146 - acc: 0.8181\n",
            "Epoch 13/30\n",
            "60905/60905 [==============================] - 31s 505us/step - loss: 0.4055 - acc: 0.8212\n",
            "Epoch 14/30\n",
            "60905/60905 [==============================] - 31s 503us/step - loss: 0.4008 - acc: 0.8251\n",
            "Epoch 15/30\n",
            "60905/60905 [==============================] - 31s 506us/step - loss: 0.3934 - acc: 0.8282\n",
            "Epoch 16/30\n",
            "60905/60905 [==============================] - 30s 495us/step - loss: 0.3858 - acc: 0.8296\n",
            "Epoch 17/30\n",
            "60905/60905 [==============================] - 31s 505us/step - loss: 0.3788 - acc: 0.8346\n",
            "Epoch 18/30\n",
            "60905/60905 [==============================] - 30s 500us/step - loss: 0.3712 - acc: 0.8372\n",
            "Epoch 19/30\n",
            "60905/60905 [==============================] - 31s 507us/step - loss: 0.3663 - acc: 0.8404\n",
            "Epoch 20/30\n",
            "60905/60905 [==============================] - 30s 498us/step - loss: 0.3547 - acc: 0.8460\n",
            "Epoch 21/30\n",
            "60905/60905 [==============================] - 31s 508us/step - loss: 0.3488 - acc: 0.8474\n",
            "Epoch 22/30\n",
            "60905/60905 [==============================] - 30s 496us/step - loss: 0.3409 - acc: 0.8531\n",
            "Epoch 23/30\n",
            "60905/60905 [==============================] - 31s 502us/step - loss: 0.3344 - acc: 0.8553\n",
            "Epoch 24/30\n",
            "60905/60905 [==============================] - 30s 498us/step - loss: 0.3286 - acc: 0.8593\n",
            "Epoch 25/30\n",
            "60905/60905 [==============================] - 31s 506us/step - loss: 0.3210 - acc: 0.8612\n",
            "Epoch 26/30\n",
            "60905/60905 [==============================] - 30s 500us/step - loss: 0.3153 - acc: 0.8655\n",
            "Epoch 27/30\n",
            "60905/60905 [==============================] - 31s 502us/step - loss: 0.3086 - acc: 0.8680\n",
            "Epoch 28/30\n",
            "60905/60905 [==============================] - 31s 503us/step - loss: 0.3022 - acc: 0.8722\n",
            "Epoch 29/30\n",
            "60905/60905 [==============================] - 31s 503us/step - loss: 0.2944 - acc: 0.8757\n",
            "Epoch 30/30\n",
            "60905/60905 [==============================] - 30s 501us/step - loss: 0.2890 - acc: 0.8778\n"
          ],
          "name": "stdout"
        }
      ]
    },
    {
      "metadata": {
        "id": "wVY5_YJSAo0E",
        "colab_type": "code",
        "colab": {
          "base_uri": "https://localhost:8080/",
          "height": 714
        },
        "outputId": "9bf1b036-025b-40e1-e24c-156730ad08a9"
      },
      "cell_type": "code",
      "source": [
        "mmodel = Sequential()\n",
        "mmodel.add(Dense(5, activation='relu', input_dim=5))\n",
        "mmodel.add(Dropout(0.2))\n",
        "mmodel.add(Dense(10, activation='relu'))\n",
        "mmodel.add(Dropout(0.2))\n",
        "mmodel.add(Dense(5, activation='softmax'))\n",
        "\n",
        "mmodel.compile(loss='categorical_crossentropy',\n",
        "              optimizer='adam',\n",
        "              metrics=['accuracy'])\n",
        "mmodel.fit(train_data, y_train,\n",
        "          epochs=20,\n",
        "          batch_size=128)"
      ],
      "execution_count": 0,
      "outputs": [
        {
          "output_type": "stream",
          "text": [
            "Epoch 1/20\n",
            "60905/60905 [==============================] - 2s 35us/step - loss: 1.1925 - acc: 0.5362\n",
            "Epoch 2/20\n",
            "60905/60905 [==============================] - 1s 17us/step - loss: 0.8011 - acc: 0.7037\n",
            "Epoch 3/20\n",
            "60905/60905 [==============================] - 1s 17us/step - loss: 0.6764 - acc: 0.7562\n",
            "Epoch 4/20\n",
            "60905/60905 [==============================] - 1s 16us/step - loss: 0.5962 - acc: 0.7863\n",
            "Epoch 5/20\n",
            "60905/60905 [==============================] - 1s 16us/step - loss: 0.5443 - acc: 0.8008\n",
            "Epoch 6/20\n",
            "60905/60905 [==============================] - 1s 16us/step - loss: 0.5226 - acc: 0.8104\n",
            "Epoch 7/20\n",
            "60905/60905 [==============================] - 1s 16us/step - loss: 0.5074 - acc: 0.8232\n",
            "Epoch 8/20\n",
            "60905/60905 [==============================] - 1s 17us/step - loss: 0.4948 - acc: 0.8277\n",
            "Epoch 9/20\n",
            "60905/60905 [==============================] - 1s 17us/step - loss: 0.4902 - acc: 0.8272\n",
            "Epoch 10/20\n",
            "60905/60905 [==============================] - 1s 18us/step - loss: 0.4834 - acc: 0.8281\n",
            "Epoch 11/20\n",
            "60905/60905 [==============================] - 1s 17us/step - loss: 0.4831 - acc: 0.8295\n",
            "Epoch 12/20\n",
            "60905/60905 [==============================] - 1s 16us/step - loss: 0.4759 - acc: 0.8302\n",
            "Epoch 13/20\n",
            "60905/60905 [==============================] - 1s 15us/step - loss: 0.4778 - acc: 0.8301\n",
            "Epoch 14/20\n",
            "60905/60905 [==============================] - 1s 14us/step - loss: 0.4728 - acc: 0.8319\n",
            "Epoch 15/20\n",
            "60905/60905 [==============================] - 1s 15us/step - loss: 0.4758 - acc: 0.8274\n",
            "Epoch 16/20\n",
            "60905/60905 [==============================] - 1s 14us/step - loss: 0.4700 - acc: 0.8289\n",
            "Epoch 17/20\n",
            "60905/60905 [==============================] - 1s 14us/step - loss: 0.4657 - acc: 0.8315\n",
            "Epoch 18/20\n",
            "60905/60905 [==============================] - 1s 17us/step - loss: 0.4622 - acc: 0.8343\n",
            "Epoch 19/20\n",
            "60905/60905 [==============================] - 1s 17us/step - loss: 0.4611 - acc: 0.8365\n",
            "Epoch 20/20\n",
            "60905/60905 [==============================] - 1s 17us/step - loss: 0.4627 - acc: 0.8381\n"
          ],
          "name": "stdout"
        },
        {
          "output_type": "execute_result",
          "data": {
            "text/plain": [
              "<keras.callbacks.History at 0x7f08a2862a20>"
            ]
          },
          "metadata": {
            "tags": []
          },
          "execution_count": 43
        }
      ]
    },
    {
      "metadata": {
        "id": "jkvdod7cXX62",
        "colab_type": "code",
        "colab": {}
      },
      "cell_type": "code",
      "source": [
        "# make prediction on test set\n",
        "X_test_2 = pca.transform(scaler.transform(X_test))\n",
        "\n",
        "test_data = np.empty_like(y_test)\n",
        "for i in range(0,5):  \n",
        "  r = models[i].predict(X_test_2)\n",
        "  test_data[:,i] = r.reshape(1, len(r))\n",
        "\n",
        "y_pred = mmodel.predict(test_data)"
      ],
      "execution_count": 0,
      "outputs": []
    },
    {
      "metadata": {
        "id": "txOCAeCpXhbP",
        "colab_type": "code",
        "colab": {
          "base_uri": "https://localhost:8080/",
          "height": 551
        },
        "outputId": "c10fef37-e56f-45ec-ac65-9ab65a1d6506"
      },
      "cell_type": "code",
      "source": [
        "print(\"F1 weighted score %f\" % f1_score(np.argmax(y_test, 1), np.argmax(y_pred, 1), average='weighted'))\n",
        "print(\"F1 macro score %f\" % f1_score(np.argmax(y_test, 1), np.argmax(y_pred, 1), average='macro'))\n",
        "cnf_matrix = confusion_matrix(np.argmax(y_test, 1), np.argmax(y_pred, 1))\n",
        "plot_confusion_matrix(cnf_matrix,[1,2,3,4,5])"
      ],
      "execution_count": 0,
      "outputs": [
        {
          "output_type": "stream",
          "text": [
            "F1 weighted score 0.386277\n",
            "F1 macro score 0.272772\n",
            "Confusion matrix, without normalization\n",
            "[[ 78  33  34  37  73]\n",
            " [ 29   9  24  35  54]\n",
            " [ 35  21  53 104 158]\n",
            " [ 51  20  94 221 312]\n",
            " [ 75  39 160 336 728]]\n"
          ],
          "name": "stdout"
        },
        {
          "output_type": "display_data",
          "data": {
            "image/png": "[encoded data removed]",
            "text/plain": [
              "<matplotlib.figure.Figure at 0x7f08a1a759b0>"
            ]
          },
          "metadata": {
            "tags": []
          }
        }
      ]
    },
    {
      "metadata": {
        "id": "693pdT-j3RFL",
        "colab_type": "text"
      },
      "cell_type": "markdown",
      "source": [
        "Macro score is 0.272772, weighted score is 0.386277.  \n",
        "This is a liittle better then dummy classifier macro score 0.212425 and weighted score 0.323443.  "
      ]
    },
    {
      "metadata": {
        "id": "UgWLU58vdhs7",
        "colab_type": "text"
      },
      "cell_type": "markdown",
      "source": [
        "# Conclusion\n",
        "\n",
        "Following result have been achieved:\n",
        "\n",
        "\n",
        "| Mode \\ Target     |   Macro F1   |   Weighted F1  |  \n",
        "| -------------------------   | ------------------: |  --------------------: |  \n",
        "| SVM Classifier    |  0.265831     |       0.388760  |  \n",
        "| ANN Classifier    |  0.278116     |       0.375937  |  \n",
        "| Stacked Classifier    |  0.272772     |      0.386277  |  \n",
        "\n",
        "SVM classifier shows best weighted f1 metric.  \n",
        "ANN classifier shows best macro f1 metric.  \n",
        "\n",
        "But all result not much better than dummy classifiers ( macro score 0.212425 and weighted score 0.323443).  \n",
        "Cause of such a result may be week classifiers tuned during this work or absence of dependence between presented features and labels (which is indirectly confirmed by low correlation).  \n",
        "Macto f1 metric is more general so ANN Classifier is the best for 5 classes.\n",
        "\n",
        "\n",
        "\n",
        "\n"
      ]
    },
    {
      "metadata": {
        "id": "5O5e7gBNdmN5",
        "colab_type": "text"
      },
      "cell_type": "markdown",
      "source": [
        "# Future work\n",
        "Presumably neural network approach can provide better results.  \n",
        "Key development directions:  \n",
        "1. Try deep architectures with [regularizers](https://keras.io/regularizers/)\n",
        "1. Make CNN with convolutions based on 'fX__rY - groups of features. Convolutions in image classification extruct base features from 2d-local regions, so hypotheses  is to extract  base features of provided data from fX groups of features (that presumably grouped in some space)\n",
        "1. Fit autoencoders on fX__rY groups of features and use them as input layer for 2-3 fully connected layers"
      ]
    },
    {
      "metadata": {
        "id": "Soqytrgcf8n6",
        "colab_type": "text"
      },
      "cell_type": "markdown",
      "source": [
        "# 2 classes classifier\n",
        "Lets make ANN classifier for 2 classes dataset"
      ]
    },
    {
      "metadata": {
        "id": "H2BRdM-VqEP0",
        "colab_type": "code",
        "colab": {}
      },
      "cell_type": "code",
      "source": [
        "# select 2 classes (1 and 5) subset\n",
        "df2 = df[df['label'].isin([1, 5])].copy()\n",
        "df2.loc[df2.label == 5, 'label'] = 2\n",
        "\n",
        "# crete X and y\n",
        "X = df2.iloc[:,1:-1].copy()\n",
        "y = df2['label'] - 1\n",
        "\n",
        "# divide to train and test\n",
        "X_train, X_test, y_train, y_test = train_test_split(X, y, test_size=0.1, random_state=3623467829)\n",
        "\n",
        "# preprocess features\n",
        "scaler = StandardScaler().fit(X_train)\n",
        "X_train = scaler.transform(X_train)\n",
        "pca = PCA(n_components=512)\n",
        "pca.fit(X_train)\n",
        "X_train = pca.transform(X_train)\n",
        "\n",
        "# balance train set\n",
        "# from imblearn.over_sampling import SMOTE, ADASYN\n",
        "from imblearn.combine import SMOTEENN\n",
        "from collections import Counter\n",
        "X_resampled, y_resampled = SMOTEENN().fit_sample(X_train, y_train)\n",
        "X_train = X_resampled\n",
        "y_train = y_resampled"
      ],
      "execution_count": 0,
      "outputs": []
    },
    {
      "metadata": {
        "id": "y-nKKGKUjDOH",
        "colab_type": "code",
        "colab": {
          "base_uri": "https://localhost:8080/",
          "height": 1054
        },
        "outputId": "9514e89c-80d2-4fb5-e56e-51c2294b22b8"
      },
      "cell_type": "code",
      "source": [
        "# model\n",
        "model = Sequential()\n",
        "model.add(Dense(512, activation='relu', input_dim=512))\n",
        "model.add(Dropout(0.2))\n",
        "model.add(Dense(1024, activation='relu'))\n",
        "model.add(Dropout(0.2))\n",
        "model.add(Dense(1024, activation='relu'))\n",
        "model.add(Dropout(0.2))\n",
        "model.add(Dense(512, activation='relu'))\n",
        "model.add(Dropout(0.2))\n",
        "model.add(Dense(1, activation='sigmoid'))\n",
        "model.compile(loss='binary_crossentropy',\n",
        "                optimizer='adam',\n",
        "                metrics=['accuracy'])\n",
        "model.fit(X_train, y_train, epochs=30, batch_size=128)"
      ],
      "execution_count": 0,
      "outputs": [
        {
          "output_type": "stream",
          "text": [
            "Epoch 1/30\n",
            "18383/18383 [==============================] - 3s 158us/step - loss: 0.3947 - acc: 0.8194\n",
            "Epoch 2/30\n",
            "18383/18383 [==============================] - 2s 97us/step - loss: 0.2590 - acc: 0.8984\n",
            "Epoch 3/30\n",
            "18383/18383 [==============================] - 2s 97us/step - loss: 0.1720 - acc: 0.9365\n",
            "Epoch 4/30\n",
            "18383/18383 [==============================] - 2s 96us/step - loss: 0.1125 - acc: 0.9602\n",
            "Epoch 5/30\n",
            "18383/18383 [==============================] - 2s 97us/step - loss: 0.0881 - acc: 0.9696\n",
            "Epoch 6/30\n",
            "18383/18383 [==============================] - 2s 97us/step - loss: 0.0649 - acc: 0.9774\n",
            "Epoch 7/30\n",
            "18383/18383 [==============================] - 2s 97us/step - loss: 0.0484 - acc: 0.9828\n",
            "Epoch 8/30\n",
            "18383/18383 [==============================] - 2s 96us/step - loss: 0.0489 - acc: 0.9850\n",
            "Epoch 9/30\n",
            "18383/18383 [==============================] - 2s 96us/step - loss: 0.0383 - acc: 0.9881\n",
            "Epoch 10/30\n",
            "18383/18383 [==============================] - 2s 96us/step - loss: 0.0337 - acc: 0.9887\n",
            "Epoch 11/30\n",
            "18383/18383 [==============================] - 2s 98us/step - loss: 0.0241 - acc: 0.9916\n",
            "Epoch 12/30\n",
            "18383/18383 [==============================] - 2s 96us/step - loss: 0.0275 - acc: 0.9913\n",
            "Epoch 13/30\n",
            "18383/18383 [==============================] - 2s 97us/step - loss: 0.0235 - acc: 0.9925\n",
            "Epoch 14/30\n",
            "18383/18383 [==============================] - 2s 96us/step - loss: 0.0212 - acc: 0.9938\n",
            "Epoch 15/30\n",
            "18383/18383 [==============================] - 2s 96us/step - loss: 0.0171 - acc: 0.9943\n",
            "Epoch 16/30\n",
            "18383/18383 [==============================] - 2s 99us/step - loss: 0.0225 - acc: 0.9931\n",
            "Epoch 17/30\n",
            "18383/18383 [==============================] - 2s 96us/step - loss: 0.0167 - acc: 0.9944\n",
            "Epoch 18/30\n",
            "18383/18383 [==============================] - 2s 97us/step - loss: 0.0167 - acc: 0.9949\n",
            "Epoch 19/30\n",
            "18383/18383 [==============================] - 2s 97us/step - loss: 0.0232 - acc: 0.9932\n",
            "Epoch 20/30\n",
            "18383/18383 [==============================] - 2s 100us/step - loss: 0.0176 - acc: 0.9945\n",
            "Epoch 21/30\n",
            "18383/18383 [==============================] - 2s 105us/step - loss: 0.0174 - acc: 0.9953\n",
            "Epoch 22/30\n",
            "18383/18383 [==============================] - 2s 102us/step - loss: 0.0153 - acc: 0.9952\n",
            "Epoch 23/30\n",
            "18383/18383 [==============================] - 2s 99us/step - loss: 0.0120 - acc: 0.9961\n",
            "Epoch 24/30\n",
            "18383/18383 [==============================] - 2s 101us/step - loss: 0.0164 - acc: 0.9950\n",
            "Epoch 25/30\n",
            "18383/18383 [==============================] - 2s 96us/step - loss: 0.0113 - acc: 0.9963\n",
            "Epoch 26/30\n",
            "18383/18383 [==============================] - 2s 97us/step - loss: 0.0095 - acc: 0.9967\n",
            "Epoch 27/30\n",
            "18383/18383 [==============================] - 2s 97us/step - loss: 0.0122 - acc: 0.9961\n",
            "Epoch 28/30\n",
            "18383/18383 [==============================] - 2s 96us/step - loss: 0.0160 - acc: 0.9942\n",
            "Epoch 29/30\n",
            "18383/18383 [==============================] - 2s 97us/step - loss: 0.0123 - acc: 0.9952\n",
            "Epoch 30/30\n",
            "18383/18383 [==============================] - 2s 96us/step - loss: 0.0120 - acc: 0.9959\n"
          ],
          "name": "stdout"
        },
        {
          "output_type": "execute_result",
          "data": {
            "text/plain": [
              "<keras.callbacks.History at 0x7f0ac8f58358>"
            ]
          },
          "metadata": {
            "tags": []
          },
          "execution_count": 23
        }
      ]
    },
    {
      "metadata": {
        "id": "TBKV7RjOg0mV",
        "colab_type": "code",
        "colab": {
          "base_uri": "https://localhost:8080/",
          "height": 483
        },
        "outputId": "1a0570f1-36a3-4678-c300-d4fbf3de9fce"
      },
      "cell_type": "code",
      "source": [
        "# make prediction on test set\n",
        "X_test_2 = pca.transform(scaler.transform(X_test))\n",
        "y_pred = model.predict(X_test_2)\n",
        "y_pred = np.ceil(y_pred)\n",
        "print(\"F1  score %f\" % f1_score(y_test, y_pred))\n",
        "cnf_matrix = confusion_matrix(y_test, y_pred)\n",
        "plot_confusion_matrix(cnf_matrix,[1,5])"
      ],
      "execution_count": 0,
      "outputs": [
        {
          "output_type": "stream",
          "text": [
            "F1  score 0.912137\n",
            "Confusion matrix, without normalization\n",
            "[[   5  255]\n",
            " [   2 1334]]\n"
          ],
          "name": "stdout"
        },
        {
          "output_type": "display_data",
          "data": {
            "image/png": "[encoded data removed]",
            "text/plain": [
              "<matplotlib.figure.Figure at 0x7f0aa61a71d0>"
            ]
          },
          "metadata": {
            "tags": []
          }
        }
      ]
    },
    {
      "metadata": {
        "id": "ZjyiFv2cpjhD",
        "colab_type": "text"
      },
      "cell_type": "markdown",
      "source": [
        "Dual classes classification shows better result f1=0.912449 \n",
        "It is usual behavior cause 2 classes classification usually better and simpler than multiclass one.  \n",
        "But still difference is too big.  \n",
        "Possible cause that its data labeled by classes 2,3 for 4 natively belongs to 5 or 1. So estimator confused by that wrong data.  \n",
        "Another explanation: presented set imbalanced in 5 class. Oversampling cannot absolutely remove this problem and estimator learn not only by features but it learn distribution of classes also. So when we present imbalanced test set skewed to 5 class estimator gives very good result.\n",
        "The last explanation I believe most of all.\n",
        "\n",
        "\n"
      ]
    },
    {
      "metadata": {
        "id": "muQu54e3qOb2",
        "colab_type": "code",
        "colab": {}
      },
      "cell_type": "code",
      "source": [
        ""
      ],
      "execution_count": 0,
      "outputs": []
    }
  ]
}